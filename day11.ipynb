{
 "cells": [
  {
   "cell_type": "code",
   "execution_count": null,
   "id": "dd043af7",
   "metadata": {},
   "outputs": [],
   "source": []
  },
  {
   "cell_type": "code",
   "execution_count": 42,
   "id": "a31ffe0d",
   "metadata": {},
   "outputs": [
    {
     "name": "stdout",
     "output_type": "stream",
     "text": [
      "Item Tomtom added to stock with ID 20\n",
      "Item Potatoes added to stock with ID 2\n",
      "Item Lexus added to stock with ID 12\n",
      "\n",
      "Current Stock:\n",
      "Item ID:20, Name: Tomtom, Quantity: 456\n",
      "Item ID:2, Name: Potatoes, Quantity: 556\n",
      "Item ID:12, Name: Lexus, Quantity: 45\n",
      "Item ID:20, Name: Tomtom, Quantity: 456\n",
      "Item with ID 20 deleted from stock\n",
      "\n",
      "Current Stock:\n",
      "Item ID:2, Name: Potatoes, Quantity: 556\n",
      "Item ID:12, Name: Lexus, Quantity: 45\n"
     ]
    }
   ],
   "source": [
    "stock = {}\n",
    "\n",
    "def add_item(item_id, name, quantity):\n",
    "    if item_id not in stock:\n",
    "        stock[item_id]= {'name': name, 'quantity': quantity}\n",
    "        print(f\"Item {name} added to stock with ID {item_id}\")\n",
    "    else:\n",
    "        print(f\"Item with ID {item_id} already exists. Use update_item to modify.\")\n",
    "        \n",
    "def search_item(item_id):\n",
    "    if item_id in stock:\n",
    "        item = stock[item_id]\n",
    "        print(f\"Item ID:{item_id}, Name: {item['name']}, Quantity: {item['quantity']}\")\n",
    "    else:\n",
    "        print(f\"Item with ID {item_id} not found in stock\")\n",
    "        \n",
    "def delete_item(item_id):\n",
    "    if item_id in stock:\n",
    "        del(stock[item_id])\n",
    "        print(f\"Item with ID {item_id} deleted from stock\")\n",
    "    else:\n",
    "        print(f\"Item with ID {item_id} not found in stock\")\n",
    "        \n",
    "def update_item(item_id):\n",
    "    if item_id in stock:\n",
    "        item_id =\n",
    "        print(f\"Item with ID {item_id} deleted from stock\")\n",
    "    else:\n",
    "        print(f\"Item with ID {item_id} not found in stock\")\n",
    "    \n",
    "\n",
    "def display_stock():\n",
    "    print(\"\\nCurrent Stock:\")\n",
    "    for item_id, item in stock.items():\n",
    "        print(f\"Item ID:{item_id}, Name: {item['name']}, Quantity: {item['quantity']}\" )\n",
    "            \n",
    "add_item(20,'Tomtom',456)  \n",
    "add_item(2,'Potatoes',556)\n",
    "add_item(12,'Lexus',45)\n",
    "display_stock()\n",
    "search_item(20)\n",
    "delete_item(20)\n",
    "display_stock()"
   ]
  },
  {
   "cell_type": "code",
   "execution_count": 43,
   "id": "3a6f4b50",
   "metadata": {},
   "outputs": [
    {
     "name": "stdout",
     "output_type": "stream",
     "text": [
      "Item Good Mama 50kr rice added to stock with ID 101\n",
      "Item Power Oil 10kg added to stock with ID 102\n",
      "Item Golden Penny Spagetti added to stock with ID 103\n",
      "Item Semovita added to stock with ID 104\n"
     ]
    }
   ],
   "source": [
    "add_item(101, 'Good Mama 50kr rice', 25)\n",
    "add_item(102, 'Power Oil 10kg', 90)\n",
    "add_item(103, 'Golden Penny Spagetti', 105)\n",
    "add_item(104, 'Semovita', 23)"
   ]
  },
  {
   "cell_type": "code",
   "execution_count": 45,
   "id": "75a9b9b2",
   "metadata": {},
   "outputs": [
    {
     "data": {
      "text/plain": [
       "{2: {'name': 'Potatoes', 'quantity': 556},\n",
       " 12: {'name': 'Lexus', 'quantity': 45},\n",
       " 101: {'name': 'Good Mama 50kr rice', 'quantity': 25},\n",
       " 102: {'name': 'Power Oil 10kg', 'quantity': 90},\n",
       " 103: {'name': 'Golden Penny Spagetti', 'quantity': 105},\n",
       " 104: {'name': 'Semovita', 'quantity': 23}}"
      ]
     },
     "execution_count": 45,
     "metadata": {},
     "output_type": "execute_result"
    }
   ],
   "source": [
    "stock"
   ]
  },
  {
   "cell_type": "code",
   "execution_count": 46,
   "id": "8dc2a23c",
   "metadata": {},
   "outputs": [
    {
     "data": {
      "text/plain": [
       "168"
      ]
     },
     "execution_count": 46,
     "metadata": {},
     "output_type": "execute_result"
    }
   ],
   "source": [
    "#lambda function: is anonymous which mean it has no name and cannot be reused, it is a one time function. It is used for\n",
    "#simple task, it has to be on a single straight line\n",
    "(lambda x,y:x+y)(78,90)\n"
   ]
  },
  {
   "cell_type": "code",
   "execution_count": 52,
   "id": "6e498c9f",
   "metadata": {},
   "outputs": [
    {
     "name": "stdout",
     "output_type": "stream",
     "text": [
      "Enter name:BISI\n"
     ]
    },
    {
     "data": {
      "text/plain": [
       "'BISI is in upper case'"
      ]
     },
     "execution_count": 52,
     "metadata": {},
     "output_type": "execute_result"
    }
   ],
   "source": [
    "#lambda function to check if a user's name is in upper case\n",
    "(lambda name:f'{name} is in upper case' if name == name.upper() else f'{name} is not in upper case')(input('Enter name:'))"
   ]
  },
  {
   "cell_type": "code",
   "execution_count": 57,
   "id": "3388b919",
   "metadata": {},
   "outputs": [
    {
     "name": "stdout",
     "output_type": "stream",
     "text": [
      "['PYTHON', 'C++', 'JAVA', 'GO', 'RUBY', 'PERL', 'PHP', 'RUST', 'JULIA', 'COBOL']\n"
     ]
    }
   ],
   "source": [
    "#map:map is used for the modification of sequence like string, tuple and list where the lambda function carries the\n",
    "#operation and the final outcome is returned as a list or tuple\n",
    "language_name = ['python', 'c++', 'java', 'go', 'ruby', 'perl', 'php','rust','julia','cobol']\n",
    "finaloutcome = list(map(lambda x:x.upper(), language_name))\n",
    "print(finaloutcome)"
   ]
  },
  {
   "cell_type": "code",
   "execution_count": 59,
   "id": "c6cf6aef",
   "metadata": {},
   "outputs": [
    {
     "name": "stdout",
     "output_type": "stream",
     "text": [
      "['RUBY', 'RUST']\n"
     ]
    }
   ],
   "source": [
    "#filter: is used for the selection in sequence like string, tuple and list where the lambda function carries the\n",
    "#operation and the final outcome is returned as a list or tuple\n",
    "language_name = ['python', 'c++', 'java', 'go', 'ruby', 'perl', 'php','rust','julia','cobol']\n",
    "finaloutcome = list(filter(lambda x:x.startswith('R'), finaloutcome))\n",
    "print(finaloutcome)"
   ]
  },
  {
   "cell_type": "code",
   "execution_count": 61,
   "id": "da514dfa",
   "metadata": {},
   "outputs": [
    {
     "name": "stdout",
     "output_type": "stream",
     "text": [
      "[52, 42, 42, 49, 60, 50, 21, 66, 16, 26, 41, 32, 43, 33, 24, 26, 31, 25, 54, 70, 84, 83, 54, 18, 87, 64, 53, 68, 43, 69, 53, 15, 22, 20, 54, 62, 23, 23, 88, 62, 35, 25, 24, 58, 68, 77, 60, 76, 17, 35]\n"
     ]
    }
   ],
   "source": [
    "#Exercise\n",
    "#From the sequence below find the even and odd numbers seperated in different list\n",
    "numbers = []\n",
    "import random\n",
    "for i in range (1,51):\n",
    "    num = random.randint(14,89)\n",
    "    numbers.append(num)\n",
    "print(numbers)    "
   ]
  },
  {
   "cell_type": "code",
   "execution_count": 74,
   "id": "70b0417c",
   "metadata": {},
   "outputs": [
    {
     "name": "stdout",
     "output_type": "stream",
     "text": [
      "[52, 42, 42, 60, 50, 66, 16, 26, 32, 24, 26, 54, 70, 84, 54, 18, 64, 68, 22, 20, 54, 62, 88, 62, 24, 58, 68, 60, 76]\n"
     ]
    }
   ],
   "source": [
    "even = list(filter(lambda x:x % 2==0, numbers))\n",
    "odd = list(filter(lambda x:x%2 ==1,numbers))\n",
    "list1 = even.copy()\n",
    "list2 = odd.copy()\n",
    "print(list1)\n"
   ]
  },
  {
   "cell_type": "code",
   "execution_count": 76,
   "id": "8acc345c",
   "metadata": {},
   "outputs": [
    {
     "ename": "TypeError",
     "evalue": "unsupported operand type(s) for %: 'list' and 'int'",
     "output_type": "error",
     "traceback": [
      "\u001b[1;31m---------------------------------------------------------------------------\u001b[0m",
      "\u001b[1;31mTypeError\u001b[0m                                 Traceback (most recent call last)",
      "Cell \u001b[1;32mIn[76], line 1\u001b[0m\n\u001b[1;32m----> 1\u001b[0m even \u001b[38;5;241m=\u001b[39m numbers \u001b[38;5;241m%\u001b[39m \u001b[38;5;241m2\u001b[39m\u001b[38;5;241m==\u001b[39m\u001b[38;5;241m0\u001b[39m\n\u001b[0;32m      2\u001b[0m \u001b[38;5;28mprint\u001b[39m(even)\n",
      "\u001b[1;31mTypeError\u001b[0m: unsupported operand type(s) for %: 'list' and 'int'"
     ]
    }
   ],
   "source": [
    "even = numbers % 2==0\n",
    "print(even)"
   ]
  },
  {
   "cell_type": "code",
   "execution_count": null,
   "id": "e300c983",
   "metadata": {},
   "outputs": [],
   "source": []
  }
 ],
 "metadata": {
  "kernelspec": {
   "display_name": "Python 3 (ipykernel)",
   "language": "python",
   "name": "python3"
  },
  "language_info": {
   "codemirror_mode": {
    "name": "ipython",
    "version": 3
   },
   "file_extension": ".py",
   "mimetype": "text/x-python",
   "name": "python",
   "nbconvert_exporter": "python",
   "pygments_lexer": "ipython3",
   "version": "3.11.5"
  }
 },
 "nbformat": 4,
 "nbformat_minor": 5
}
