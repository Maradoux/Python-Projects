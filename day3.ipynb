{
 "cells": [
  {
   "cell_type": "code",
   "execution_count": 5,
   "id": "b9c6d97f",
   "metadata": {},
   "outputs": [
    {
     "name": "stdout",
     "output_type": "stream",
     "text": [
      "<class 'tuple'>\n"
     ]
    }
   ],
   "source": [
    "# Tuple\n",
    "numbers = (14,15,65,60,23,25,85,60,45,48,47,60)\n",
    "print(type(numbers))"
   ]
  },
  {
   "cell_type": "code",
   "execution_count": 6,
   "id": "9fe24711",
   "metadata": {},
   "outputs": [
    {
     "name": "stdout",
     "output_type": "stream",
     "text": [
      "12\n"
     ]
    }
   ],
   "source": [
    "print(len(numbers))"
   ]
  },
  {
   "cell_type": "code",
   "execution_count": 8,
   "id": "ee39706c",
   "metadata": {},
   "outputs": [
    {
     "name": "stdout",
     "output_type": "stream",
     "text": [
      "25\n"
     ]
    }
   ],
   "source": [
    "# To select a particular number in the tuple\n",
    "print(numbers[5])"
   ]
  },
  {
   "cell_type": "code",
   "execution_count": 9,
   "id": "427abe92",
   "metadata": {},
   "outputs": [
    {
     "name": "stdout",
     "output_type": "stream",
     "text": [
      "25\n"
     ]
    }
   ],
   "source": [
    "# To count backwards start from -1\n",
    "print(numbers[-7])"
   ]
  },
  {
   "cell_type": "code",
   "execution_count": 11,
   "id": "bd97307c",
   "metadata": {},
   "outputs": [
    {
     "name": "stdout",
     "output_type": "stream",
     "text": [
      "(65, 60, 23, 25, 85)\n"
     ]
    }
   ],
   "source": [
    "# To select a range of values\n",
    "print(numbers[2:7])"
   ]
  },
  {
   "cell_type": "code",
   "execution_count": 13,
   "id": "184cd31f",
   "metadata": {},
   "outputs": [
    {
     "name": "stdout",
     "output_type": "stream",
     "text": [
      "False\n"
     ]
    }
   ],
   "source": [
    "# To use the membership operator\n",
    "print(100 in numbers)"
   ]
  },
  {
   "cell_type": "code",
   "execution_count": 14,
   "id": "498bf0e2",
   "metadata": {},
   "outputs": [
    {
     "name": "stdout",
     "output_type": "stream",
     "text": [
      "3\n"
     ]
    }
   ],
   "source": [
    "# To count the occurence of a particular number\n",
    "print(numbers.count(60))"
   ]
  },
  {
   "cell_type": "code",
   "execution_count": 16,
   "id": "93405e28",
   "metadata": {},
   "outputs": [
    {
     "name": "stdout",
     "output_type": "stream",
     "text": [
      "6\n"
     ]
    }
   ],
   "source": [
    "# index function checks the location of a particular number\n",
    "print(numbers.index(85))"
   ]
  },
  {
   "cell_type": "code",
   "execution_count": 23,
   "id": "19e2e466",
   "metadata": {},
   "outputs": [],
   "source": [
    "# List\n",
    "shopA = ['Apple','Bucket','Strawberry','Lemon','Banana']"
   ]
  },
  {
   "cell_type": "code",
   "execution_count": 24,
   "id": "deae60a8",
   "metadata": {},
   "outputs": [
    {
     "name": "stdout",
     "output_type": "stream",
     "text": [
      "['Apple', 'Bucket', 'Strawberry', 'Lemon', 'Banana', 'Pear']\n"
     ]
    }
   ],
   "source": [
    "# append function adds value at the end of the list\n",
    "shopA.append('Pear')\n",
    "print(shopA)"
   ]
  },
  {
   "cell_type": "code",
   "execution_count": 25,
   "id": "67c6e863",
   "metadata": {},
   "outputs": [
    {
     "name": "stdout",
     "output_type": "stream",
     "text": [
      "['Apple', 'Bucket', 'Pen', 'Strawberry', 'Lemon', 'Banana', 'Pear']\n"
     ]
    }
   ],
   "source": [
    "# in insert function, you have to specify the particular loaction you want to add the value\n",
    "shopA.insert(2, 'Pen')\n",
    "print(shopA)"
   ]
  },
  {
   "cell_type": "code",
   "execution_count": 26,
   "id": "bda329fb",
   "metadata": {},
   "outputs": [
    {
     "name": "stdout",
     "output_type": "stream",
     "text": [
      "['Apple', 'Bucket', 'Pen', 'Strawberry', 'Lemon', 'Banana', 'Pear', 'Book', 'Phone', 'Chalk']\n"
     ]
    }
   ],
   "source": [
    "# in extend, it means you are moving a value in a list to another list\n",
    "shopB = ['Book', 'Phone', 'Chalk']\n",
    "shopA.extend(shopB)\n",
    "print(shopA)"
   ]
  },
  {
   "cell_type": "code",
   "execution_count": 27,
   "id": "80ea4dcc",
   "metadata": {},
   "outputs": [
    {
     "name": "stdout",
     "output_type": "stream",
     "text": [
      "['Apple', 'Bucket', 'Pen', 'Lemon', 'Banana', 'Pear', 'Book', 'Phone', 'Chalk']\n"
     ]
    }
   ],
   "source": [
    "# to delete, we pop or remove. Pop specifies the index location while remove specifies the value\n",
    "shopA.pop(3)\n",
    "print(shopA)"
   ]
  },
  {
   "cell_type": "code",
   "execution_count": 28,
   "id": "f7712169",
   "metadata": {},
   "outputs": [
    {
     "name": "stdout",
     "output_type": "stream",
     "text": [
      "['Apple', 'Bucket', 'Pen', 'Lemon', 'Banana', 'Pear', 'Phone', 'Chalk']\n"
     ]
    }
   ],
   "source": [
    "shopA.remove('Book')\n",
    "print(shopA)"
   ]
  },
  {
   "cell_type": "code",
   "execution_count": 29,
   "id": "5b84f326",
   "metadata": {},
   "outputs": [
    {
     "name": "stdout",
     "output_type": "stream",
     "text": [
      "['Apple', 'Banana', 'Bucket', 'Chalk', 'Lemon', 'Pear', 'Pen', 'Phone']\n"
     ]
    }
   ],
   "source": [
    "#sort function arranges the data or value in ascending order\n",
    "shopA.sort()\n",
    "print(shopA)"
   ]
  },
  {
   "cell_type": "code",
   "execution_count": 30,
   "id": "5608ab72",
   "metadata": {},
   "outputs": [
    {
     "name": "stdout",
     "output_type": "stream",
     "text": [
      "['Phone', 'Pen', 'Pear', 'Lemon', 'Chalk', 'Bucket', 'Banana', 'Apple']\n"
     ]
    }
   ],
   "source": [
    "#reverse function arranges the data or value in descending order\n",
    "shopA.reverse()\n",
    "print(shopA)"
   ]
  },
  {
   "cell_type": "code",
   "execution_count": 31,
   "id": "ebc9ab7f",
   "metadata": {},
   "outputs": [
    {
     "name": "stdout",
     "output_type": "stream",
     "text": [
      "['Phone', 'Pen', 'Pear', 'Lemon', 'Chalk', 'Bucket', 'Banana', 'Apple']\n"
     ]
    }
   ],
   "source": [
    "#copy function makes a duplicate of the specified list\n",
    "shopC = shopA.copy()\n",
    "print(shopC)"
   ]
  },
  {
   "cell_type": "code",
   "execution_count": 32,
   "id": "81428317",
   "metadata": {},
   "outputs": [
    {
     "name": "stdout",
     "output_type": "stream",
     "text": [
      "[]\n"
     ]
    }
   ],
   "source": [
    "#clear functons clears out all the value in a list\n",
    "shopC.clear()\n",
    "print(shopC)"
   ]
  },
  {
   "cell_type": "code",
   "execution_count": 33,
   "id": "4898dd7b",
   "metadata": {},
   "outputs": [
    {
     "ename": "NameError",
     "evalue": "name 'shopC' is not defined",
     "output_type": "error",
     "traceback": [
      "\u001b[1;31m---------------------------------------------------------------------------\u001b[0m",
      "\u001b[1;31mNameError\u001b[0m                                 Traceback (most recent call last)",
      "Cell \u001b[1;32mIn[33], line 3\u001b[0m\n\u001b[0;32m      1\u001b[0m \u001b[38;5;66;03m#delete function\u001b[39;00m\n\u001b[0;32m      2\u001b[0m \u001b[38;5;28;01mdel\u001b[39;00m(shopC)\n\u001b[1;32m----> 3\u001b[0m \u001b[38;5;28mprint\u001b[39m(shopC)\n",
      "\u001b[1;31mNameError\u001b[0m: name 'shopC' is not defined"
     ]
    }
   ],
   "source": [
    "#delete function\n",
    "del(shopC)\n",
    "print(shopC)"
   ]
  },
  {
   "cell_type": "code",
   "execution_count": 34,
   "id": "d6255623",
   "metadata": {},
   "outputs": [
    {
     "name": "stdout",
     "output_type": "stream",
     "text": [
      "1.56\n"
     ]
    }
   ],
   "source": [
    "#Dictionary ('key':'value')\n",
    "records = {\n",
    "    'Name':'Fatima',\n",
    "    'Age':45,\n",
    "    'Gender':'Female',\n",
    "    'Height':1.56,\n",
    "    'weight':60.5\n",
    "}\n",
    "print(records['Height'])"
   ]
  },
  {
   "cell_type": "code",
   "execution_count": 35,
   "id": "e6b1c14c",
   "metadata": {},
   "outputs": [
    {
     "name": "stdout",
     "output_type": "stream",
     "text": [
      "{'Name': 'Fatima', 'Age': 45, 'Gender': 'Female', 'Height': 1.56, 'weight': 60.5, 'Address': 'No 25 Highway Street'}\n"
     ]
    }
   ],
   "source": [
    "# Dictionary Operation\n",
    "# To add a new key\n",
    "records['Address'] = 'No 25 Highway Street'\n",
    "print(records)"
   ]
  },
  {
   "cell_type": "code",
   "execution_count": 36,
   "id": "95debb6a",
   "metadata": {},
   "outputs": [
    {
     "name": "stdout",
     "output_type": "stream",
     "text": [
      "{'Name': 'Fatima', 'Age': 45, 'Gender': 'Female', 'Height': 1.65, 'weight': 60.5, 'Address': 'No 25 Highway Street'}\n"
     ]
    }
   ],
   "source": [
    "# To update a value\n",
    "records['Height'] = 1.65\n",
    "print(records)"
   ]
  },
  {
   "cell_type": "code",
   "execution_count": 37,
   "id": "6f4507da",
   "metadata": {},
   "outputs": [
    {
     "name": "stdout",
     "output_type": "stream",
     "text": [
      "{'Name': 'Fatima', 'Age': 45, 'Gender': 'Female', 'Height': 1.66, 'weight': 60.5, 'Address': 'No 25 Highway Street'}\n"
     ]
    }
   ],
   "source": [
    "# Or...\n",
    "newval = {'Height':1.66}\n",
    "records.update(newval)\n",
    "print(records)"
   ]
  },
  {
   "cell_type": "code",
   "execution_count": 38,
   "id": "480e7d41",
   "metadata": {},
   "outputs": [
    {
     "name": "stdout",
     "output_type": "stream",
     "text": [
      "{'Name': 'Fatima', 'Age': 45, 'Gender': 'Female', 'Height': 1.66, 'weight': 60.5}\n"
     ]
    }
   ],
   "source": [
    "# to delete, we use popitem or pop (popitem deletes the last key and value in a dictionary)\n",
    "records.popitem()\n",
    "print(records)"
   ]
  },
  {
   "cell_type": "code",
   "execution_count": 39,
   "id": "f3a096e7",
   "metadata": {},
   "outputs": [
    {
     "name": "stdout",
     "output_type": "stream",
     "text": [
      "{'Name': 'Fatima', 'Gender': 'Female', 'Height': 1.66, 'weight': 60.5}\n"
     ]
    }
   ],
   "source": [
    "# to delete using pop, you have to specify the key\n",
    "records.pop('Age')\n",
    "print(records)"
   ]
  },
  {
   "cell_type": "code",
   "execution_count": 41,
   "id": "ec717f7b",
   "metadata": {},
   "outputs": [
    {
     "name": "stdout",
     "output_type": "stream",
     "text": [
      "dict_keys(['Name', 'Gender', 'Height', 'weight'])\n"
     ]
    }
   ],
   "source": [
    "#to return keys only\n",
    "print(records.keys())"
   ]
  },
  {
   "cell_type": "code",
   "execution_count": 42,
   "id": "f3f15908",
   "metadata": {},
   "outputs": [
    {
     "name": "stdout",
     "output_type": "stream",
     "text": [
      "dict_values(['Fatima', 'Female', 1.66, 60.5])\n"
     ]
    }
   ],
   "source": [
    "#to return values only\n",
    "print(records.values())"
   ]
  },
  {
   "cell_type": "code",
   "execution_count": 43,
   "id": "ddb36bc4",
   "metadata": {},
   "outputs": [
    {
     "name": "stdout",
     "output_type": "stream",
     "text": [
      "Bisi\n"
     ]
    }
   ],
   "source": [
    "# to select a particular value in a key\n",
    "records = {\n",
    "    'Name':['Ade','Bisi','James'],\n",
    "}\n",
    "print(records['Name'][1])"
   ]
  },
  {
   "cell_type": "code",
   "execution_count": null,
   "id": "4afc0dff",
   "metadata": {},
   "outputs": [],
   "source": []
  }
 ],
 "metadata": {
  "kernelspec": {
   "display_name": "Python 3 (ipykernel)",
   "language": "python",
   "name": "python3"
  },
  "language_info": {
   "codemirror_mode": {
    "name": "ipython",
    "version": 3
   },
   "file_extension": ".py",
   "mimetype": "text/x-python",
   "name": "python",
   "nbconvert_exporter": "python",
   "pygments_lexer": "ipython3",
   "version": "3.11.5"
  }
 },
 "nbformat": 4,
 "nbformat_minor": 5
}
