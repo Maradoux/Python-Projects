{
 "cells": [
  {
   "cell_type": "code",
   "execution_count": 4,
   "id": "27cdfba9",
   "metadata": {},
   "outputs": [
    {
     "name": "stdout",
     "output_type": "stream",
     "text": [
      "Enter first number: 80\n",
      "Enter second number: 65\n",
      "Choose operation option[+,-,*,/]: *\n",
      "80 + 65 = 5200\n"
     ]
    }
   ],
   "source": [
    "#error handling\n",
    "#try: test the block of codes for any potential error\n",
    "#except: returns the kind of error encountered by the try block\n",
    "#else:else is dependent on the try block\n",
    "#finally:will always execute regardless of any exception or not\n",
    "try: \n",
    "    num1 = int(input('Enter first number: '))\n",
    "    num2 = int(input('Enter second number: '))\n",
    "    option = input('Choose operation option[+,-,*,/]: ')\n",
    "    if option == '+':\n",
    "        print(f'{num1} + {num2} = {num1 + num2}')\n",
    "    elif option == '-':\n",
    "        print(f'{num1} + {num2} = {num1 - num2}')\n",
    "    elif option == '*':\n",
    "        print(f'{num1} + {num2} = {num1 * num2}')\n",
    "    elif option == '/':\n",
    "        print(f'{num1} + {num2} = {num1 / num2}')\n",
    "except:\n",
    "    print('You have encountered one or more errors')\n",
    "    \n",
    "  "
   ]
  },
  {
   "cell_type": "code",
   "execution_count": 10,
   "id": "59fb566a",
   "metadata": {},
   "outputs": [
    {
     "name": "stdout",
     "output_type": "stream",
     "text": [
      "Enter first number: 56\n",
      "Enter second number: 78\n",
      "Choose operation option[+,-,*,/]: *\n",
      "56 + 78 = 4368\n",
      "22838422686555587263948685490152318882035472844501809360976087896337614957874991896849190676558796921891771164421806480340889836627951616\n",
      "End of program.\n"
     ]
    }
   ],
   "source": [
    "try: \n",
    "    num1 = int(input('Enter first number: '))\n",
    "    num2 = int(input('Enter second number: '))\n",
    "    option = input('Choose operation option[+,-,*,/]: ')\n",
    "    if option == '+':\n",
    "        print(f'{num1} + {num2} = {num1 + num2}')\n",
    "    elif option == '-':\n",
    "        print(f'{num1} + {num2} = {num1 - num2}')\n",
    "    elif option == '*':\n",
    "        print(f'{num1} + {num2} = {num1 * num2}')\n",
    "    elif option == '/':\n",
    "        print(f'{num1} + {num2} = {num1 / num2}')\n",
    "        \n",
    "except ValueError:\n",
    "    print('Wrong value for first or second number only whole number is expected.')\n",
    "except ZeroDivisionError:\n",
    "    print('Sorry you cannot divide a number by 0')\n",
    "except:\n",
    "    print('You have encountered one or more errors')\n",
    "else:\n",
    "    print(num1 ** num2)\n",
    "finally:\n",
    "    print('End of program.')"
   ]
  },
  {
   "cell_type": "code",
   "execution_count": 18,
   "id": "d72abf48",
   "metadata": {},
   "outputs": [
    {
     "name": "stdout",
     "output_type": "stream",
     "text": [
      "Welcome to ALLWELL REAL ESTATE MANAGEMENT BUILDING ESTIMATION CALCULATOR\n",
      "Estimation Result\n"
     ]
    },
    {
     "ename": "UnboundLocalError",
     "evalue": "cannot access local variable 'land_cost' where it is not associated with a value",
     "output_type": "error",
     "traceback": [
      "\u001b[1;31m---------------------------------------------------------------------------\u001b[0m",
      "\u001b[1;31mKeyboardInterrupt\u001b[0m                         Traceback (most recent call last)",
      "Cell \u001b[1;32mIn[18], line 5\u001b[0m, in \u001b[0;36mbuilding_estimation_calculator\u001b[1;34m()\u001b[0m\n\u001b[0;32m      4\u001b[0m \u001b[38;5;28;01mtry\u001b[39;00m:\n\u001b[1;32m----> 5\u001b[0m     land_cost \u001b[38;5;241m=\u001b[39m \u001b[38;5;28mfloat\u001b[39m(\u001b[38;5;28minput\u001b[39m(\u001b[38;5;124m'\u001b[39m\u001b[38;5;124mEnter the cost of the land: N\u001b[39m\u001b[38;5;124m'\u001b[39m))\n\u001b[0;32m      6\u001b[0m     building_area \u001b[38;5;241m=\u001b[39m\u001b[38;5;28mfloat\u001b[39m(\u001b[38;5;28minput\u001b[39m(\u001b[38;5;124m'\u001b[39m\u001b[38;5;124mEnter the total area of the uilding (in per meter square):\u001b[39m\u001b[38;5;124m'\u001b[39m))\n",
      "File \u001b[1;32m~\\anaconda3\\Lib\\site-packages\\ipykernel\\kernelbase.py:1202\u001b[0m, in \u001b[0;36mKernel.raw_input\u001b[1;34m(self, prompt)\u001b[0m\n\u001b[0;32m   1201\u001b[0m     \u001b[38;5;28;01mraise\u001b[39;00m StdinNotImplementedError(msg)\n\u001b[1;32m-> 1202\u001b[0m \u001b[38;5;28;01mreturn\u001b[39;00m \u001b[38;5;28mself\u001b[39m\u001b[38;5;241m.\u001b[39m_input_request(\n\u001b[0;32m   1203\u001b[0m     \u001b[38;5;28mstr\u001b[39m(prompt),\n\u001b[0;32m   1204\u001b[0m     \u001b[38;5;28mself\u001b[39m\u001b[38;5;241m.\u001b[39m_parent_ident[\u001b[38;5;124m\"\u001b[39m\u001b[38;5;124mshell\u001b[39m\u001b[38;5;124m\"\u001b[39m],\n\u001b[0;32m   1205\u001b[0m     \u001b[38;5;28mself\u001b[39m\u001b[38;5;241m.\u001b[39mget_parent(\u001b[38;5;124m\"\u001b[39m\u001b[38;5;124mshell\u001b[39m\u001b[38;5;124m\"\u001b[39m),\n\u001b[0;32m   1206\u001b[0m     password\u001b[38;5;241m=\u001b[39m\u001b[38;5;28;01mFalse\u001b[39;00m,\n\u001b[0;32m   1207\u001b[0m )\n",
      "File \u001b[1;32m~\\anaconda3\\Lib\\site-packages\\ipykernel\\kernelbase.py:1245\u001b[0m, in \u001b[0;36mKernel._input_request\u001b[1;34m(self, prompt, ident, parent, password)\u001b[0m\n\u001b[0;32m   1244\u001b[0m     msg \u001b[38;5;241m=\u001b[39m \u001b[38;5;124m\"\u001b[39m\u001b[38;5;124mInterrupted by user\u001b[39m\u001b[38;5;124m\"\u001b[39m\n\u001b[1;32m-> 1245\u001b[0m     \u001b[38;5;28;01mraise\u001b[39;00m \u001b[38;5;167;01mKeyboardInterrupt\u001b[39;00m(msg) \u001b[38;5;28;01mfrom\u001b[39;00m \u001b[38;5;28;01mNone\u001b[39;00m\n\u001b[0;32m   1246\u001b[0m \u001b[38;5;28;01mexcept\u001b[39;00m \u001b[38;5;167;01mException\u001b[39;00m:\n",
      "\u001b[1;31mKeyboardInterrupt\u001b[0m: Interrupted by user",
      "\nDuring handling of the above exception, another exception occurred:\n",
      "\u001b[1;31mUnboundLocalError\u001b[0m                         Traceback (most recent call last)",
      "Cell \u001b[1;32mIn[18], line 24\u001b[0m\n\u001b[0;32m     22\u001b[0m         \u001b[38;5;28mprint\u001b[39m(\u001b[38;5;124mf\u001b[39m\u001b[38;5;124m'\u001b[39m\u001b[38;5;124mLabor Cost (\u001b[39m\u001b[38;5;132;01m{\u001b[39;00mlabor_cost_per\u001b[38;5;132;01m}\u001b[39;00m\u001b[38;5;124m): N\u001b[39m\u001b[38;5;132;01m{\u001b[39;00mlabor_cost\u001b[38;5;132;01m:\u001b[39;00m\u001b[38;5;124m.2f\u001b[39m\u001b[38;5;132;01m}\u001b[39;00m\u001b[38;5;124m'\u001b[39m)\n\u001b[0;32m     23\u001b[0m         \u001b[38;5;28mprint\u001b[39m(\u001b[38;5;124mf\u001b[39m\u001b[38;5;124m'\u001b[39m\u001b[38;5;124mTotal Estimated cost: N\u001b[39m\u001b[38;5;132;01m{\u001b[39;00mtotalcost\u001b[38;5;132;01m:\u001b[39;00m\u001b[38;5;124m.2f\u001b[39m\u001b[38;5;132;01m}\u001b[39;00m\u001b[38;5;124m'\u001b[39m)\n\u001b[1;32m---> 24\u001b[0m building_estimation_calculator()\n",
      "Cell \u001b[1;32mIn[18], line 19\u001b[0m, in \u001b[0;36mbuilding_estimation_calculator\u001b[1;34m()\u001b[0m\n\u001b[0;32m     17\u001b[0m \u001b[38;5;28;01mfinally\u001b[39;00m:\n\u001b[0;32m     18\u001b[0m     \u001b[38;5;28mprint\u001b[39m(\u001b[38;5;124m'\u001b[39m\u001b[38;5;124mEstimation Result\u001b[39m\u001b[38;5;124m'\u001b[39m)\n\u001b[1;32m---> 19\u001b[0m     \u001b[38;5;28mprint\u001b[39m(\u001b[38;5;124mf\u001b[39m\u001b[38;5;124m'\u001b[39m\u001b[38;5;124mLand cost: \u001b[39m\u001b[38;5;132;01m{\u001b[39;00mland_cost\u001b[38;5;132;01m:\u001b[39;00m\u001b[38;5;124m.2f\u001b[39m\u001b[38;5;132;01m}\u001b[39;00m\u001b[38;5;124m'\u001b[39m)\n\u001b[0;32m     20\u001b[0m     \u001b[38;5;28mprint\u001b[39m(\u001b[38;5;124mf\u001b[39m\u001b[38;5;124m'\u001b[39m\u001b[38;5;124mConstruction cost: N\u001b[39m\u001b[38;5;132;01m{\u001b[39;00mconst_cost\u001b[38;5;132;01m:\u001b[39;00m\u001b[38;5;124m.2f\u001b[39m\u001b[38;5;132;01m}\u001b[39;00m\u001b[38;5;124m'\u001b[39m)            \n\u001b[0;32m     21\u001b[0m     \u001b[38;5;28mprint\u001b[39m(\u001b[38;5;124mf\u001b[39m\u001b[38;5;124m'\u001b[39m\u001b[38;5;124mMaterial cost at (\u001b[39m\u001b[38;5;132;01m{\u001b[39;00mmaterial_cost_per\u001b[38;5;132;01m}\u001b[39;00m\u001b[38;5;124m): N\u001b[39m\u001b[38;5;132;01m{\u001b[39;00mmaterial_cost\u001b[38;5;132;01m:\u001b[39;00m\u001b[38;5;124m.2f\u001b[39m\u001b[38;5;132;01m}\u001b[39;00m\u001b[38;5;124m'\u001b[39m)\n",
      "\u001b[1;31mUnboundLocalError\u001b[0m: cannot access local variable 'land_cost' where it is not associated with a value"
     ]
    }
   ],
   "source": [
    "def building_estimation_calculator():\n",
    "    print('Welcome to ALLWELL REAL ESTATE MANAGEMENT BUILDING ESTIMATION CALCULATOR')\n",
    "#GET INPUT FROM USER\n",
    "    try:\n",
    "        land_cost = float(input('Enter the cost of the land: N'))\n",
    "        building_area =float(input('Enter the total area of the uilding (in per meter square):'))\n",
    "        cost_per_meter_sqr = float(input('Enter the cost per sqr for the building: '))\n",
    "        material_cost_per = float(input('Enter the percentage of total cost for materials:'))\n",
    "        labor_cost_per = float(input('Enter the percentage of total cost for labor:'))\n",
    "    except ValueError:\n",
    "        print('Please Enter Valid Numerical Values.')\n",
    "    else:\n",
    "        const_cost = cost_per_meter_sqr * building_area\n",
    "        material_cost = (material_cost_per/100)*const_cost\n",
    "        labor_cost = (labor_cost_per/100)*const_cost\n",
    "        totalcost = land_cost + const_cost + material_cost + labor_cost\n",
    "    finally:\n",
    "        print('Estimation Result')\n",
    "        print(f'Land cost: {land_cost:.2f}')\n",
    "        print(f'Construction cost: N{const_cost:.2f}')            \n",
    "        print(f'Material cost at ({material_cost_per}): N{material_cost:.2f}')\n",
    "        print(f'Labor Cost ({labor_cost_per}): N{labor_cost:.2f}')\n",
    "        print(f'Total Estimated cost: N{totalcost:.2f}')\n",
    "building_estimation_calculator()"
   ]
  },
  {
   "cell_type": "code",
   "execution_count": null,
   "id": "c9bb9ce3",
   "metadata": {},
   "outputs": [],
   "source": [
    "def building_estimation_calculator():\n",
    "    print('WELCOME TO ALLWELL REAL ESTATE MANAGEMENT BUILDING ESTIMATION CALCULATOR')\n",
    "    #GET INPUT FROM USER\n",
    "    try:\n",
    "        land_cost = float(input('Enter the cost of the land: N'))\n",
    "        building_area =float(input('Enter the total area of the uilding (in per meter square):'))\n",
    "        cost_per_meter_sqr = float(input('Enter the cost per sqr for the building: '))\n",
    "        material_cost_per = float(input('Enter the percentage of total cost for materials:'))\n",
    "        labor_cost_per = float(input('Enter the percentage of total cost for labor:'))\n",
    "    except ValueError:\n",
    "        print('Please Enter Valid Numerical Values.')\n",
    "    else:\n",
    "        const_cost = cost_per_meter_sqr * building_area\n",
    "        material_cost = (material_cost_per/100)*const_cost\n",
    "        labor_cost = (labor_cost_per/100)*const_cost\n",
    "        totalcost = land_cost + const_cost + material_cost + labor_cost\n",
    "    finally:\n",
    "        print('Estimation Result')\n",
    "        print(f'Land cost: {land_cost:.2f}')\n",
    "        print(f'Construction cost: N{const_cost:.2f}')            \n",
    "        print(f'Material cost at ({material_cost_per}): N{material_cost:.2f}')\n",
    "        print(f'Labor Cost ({labor_cost_per}): N{labor_cost:.2f}')\n",
    "        print(f'Total Estimated cost: N{totalcost:.2f}')\n",
    "            \n",
    "building_estimation_calculator()"
   ]
  },
  {
   "cell_type": "code",
   "execution_count": 28,
   "id": "288fa052",
   "metadata": {},
   "outputs": [
    {
     "name": "stdout",
     "output_type": "stream",
     "text": [
      "WELCOME TO ALLWELL REAL ESTATE MANAGEMENT BUILDING ESTIMATION CALCULATOR\n",
      "Enter the cost of the land: N450000000\n",
      "Enter the total area of the building (in per meter square):45\n",
      "Enter the cost per sqr for the building: 67\n",
      "Enter the percentage of total cost for materials:65\n",
      "Enter the percentage of total cost for labor:53\n",
      "Estimation Result\n",
      "Land cost: 450000000.00\n",
      "Construction cost: N36.00\n",
      "Material cost at (65.0): N2.16\n",
      "Labor Cost (53.0): N2.16\n",
      "Total Estimated cost: N4484.32\n",
      "\n",
      "Real-world Factors:\n",
      "Real-world factors such as economic conditions, market trends, and government policies can significantly affect construction costs.\n"
     ]
    }
   ],
   "source": [
    "def building_estimation_calculator():\n",
    "    print('WELCOME TO ALLWELL REAL ESTATE MANAGEMENT BUILDING ESTIMATION CALCULATOR')\n",
    "    #GET INPUT FROM USER\n",
    "    \n",
    "    land_cost = 0\n",
    "    try:\n",
    "        if land_cost <= 7000000:\n",
    "            \n",
    "            land_cost = float(input('Enter the cost of the land: N'))\n",
    "            building_area =float(input('Enter the total area of the building (in per meter square):'))\n",
    "            cost_per_meter_sqr = float(input('Enter the cost per sqr for the building: '))\n",
    "            material_cost_per = float(input('Enter the percentage of total cost for materials:'))\n",
    "            labor_cost_per = float(input('Enter the percentage of total cost for labor:'))\n",
    "            \n",
    "     # Scenario Analysis,For example, consider what happens if the land cost is doubled   \n",
    "    except:\n",
    "        if land_cost >= 14000000:\n",
    "            print('It is too expensive.\\nBased on the analysis, it is recommended to carefully consider the\\nimpact of land cost on the overall budget.')\n",
    "            # Recommendations,Provide recommendations based on the analysis\n",
    "            print('Estimation Result')\n",
    "            print(f'Land cost: {land_cost:.2f}')\n",
    "            print(f'Construction cost: N{1/2 * const_cost:.2f}')            \n",
    "            print(f'Material cost at ({1/2 * material_cost_per}): N{material_cost:.2f}')\n",
    "            print(f'Labor Cost ({1/2 * labor_cost_per}): N{labor_cost:.2f}')\n",
    "            print(f'Total Estimated cost: N{totalcost:.2f}')\n",
    "    \n",
    "   \n",
    "    \n",
    "    finally:\n",
    "        print('Estimation Result')\n",
    "        print(f'Land cost: {land_cost:.2f}')\n",
    "        print(f'Construction cost: N{const_cost:.2f}')            \n",
    "        print(f'Material cost at ({material_cost_per}): N{material_cost:.2f}')\n",
    "        print(f'Labor Cost ({labor_cost_per}): N{labor_cost:.2f}')\n",
    "        print(f'Total Estimated cost: N{totalcost:.2f}')\n",
    "\n",
    "        print('\\nReal-world Factors:')\n",
    "        print('Real-world factors such as economic conditions, market trends, and government policies can significantly affect construction costs.')\n",
    "building_estimation_calculator()       "
   ]
  },
  {
   "cell_type": "markdown",
   "id": "c07dc2a4",
   "metadata": {},
   "source": [
    "## "
   ]
  },
  {
   "cell_type": "code",
   "execution_count": 9,
   "id": "47e53e9a",
   "metadata": {},
   "outputs": [],
   "source": [
    "def order():\n",
    "    menu = {\n",
    "        'Sharwama': 1500.0,\n",
    "        'Sandwich': 7500.0,\n",
    "        'Salad': 4990.0,\n",
    "        'Fries': 3990.0,\n",
    "        'Burger': 8000,\n",
    "    }\n",
    "    order = {}\n",
    "    totalprice = 0.0\n",
    "    \n",
    "    while True:\n",
    "        \n",
    "        print('\\nMENU')\n",
    "        for item, price in menu.items():\n",
    "            print(f'{item.capitalize()}: ${price:.2f}')\n",
    "        for key in menu:\n",
    "            user_choice = input('Enter the food item you want to order (or done to finish): ')\n",
    "            if user_choice == 'done':\n",
    "                break\n",
    "            if user_choice in menu:\n",
    "                quantity = int(input(f'How many {user_choice}s do you want to order? '))\n",
    "                order[user_choice] = quantity\n",
    "                totalprice += menu[user_choice] * quantity\n",
    "                print(totalprice)\n",
    "            else:\n",
    "                print('Invalid choice, choose from the menu.')"
   ]
  },
  {
   "cell_type": "code",
   "execution_count": null,
   "id": "592f623c",
   "metadata": {
    "scrolled": true
   },
   "outputs": [
    {
     "name": "stdout",
     "output_type": "stream",
     "text": [
      "\n",
      "MENU\n",
      "Sharwama: $1500.00\n",
      "Sandwich: $7500.00\n",
      "Salad: $4990.00\n",
      "Fries: $3990.00\n",
      "Burger: $8000.00\n",
      "Enter the food item you want to order (or done to finish): Sandwich\n",
      "How many Sandwichs do you want to order? 3\n",
      "22500.0\n"
     ]
    }
   ],
   "source": [
    "order()"
   ]
  },
  {
   "cell_type": "code",
   "execution_count": null,
   "id": "bf1e95ee",
   "metadata": {},
   "outputs": [],
   "source": []
  },
  {
   "cell_type": "code",
   "execution_count": null,
   "id": "56801cc1",
   "metadata": {},
   "outputs": [],
   "source": []
  }
 ],
 "metadata": {
  "kernelspec": {
   "display_name": "Python 3 (ipykernel)",
   "language": "python",
   "name": "python3"
  },
  "language_info": {
   "codemirror_mode": {
    "name": "ipython",
    "version": 3
   },
   "file_extension": ".py",
   "mimetype": "text/x-python",
   "name": "python",
   "nbconvert_exporter": "python",
   "pygments_lexer": "ipython3",
   "version": "3.11.5"
  }
 },
 "nbformat": 4,
 "nbformat_minor": 5
}
