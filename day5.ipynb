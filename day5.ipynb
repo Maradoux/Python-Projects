{
 "cells": [
  {
   "cell_type": "code",
   "execution_count": 1,
   "id": "4f62ff90",
   "metadata": {},
   "outputs": [],
   "source": [
    "#Loop simply means iterating a program over and over again\n",
    "#We have two types of Loop\n",
    "#FOR loop- to use for loop the values must be known"
   ]
  },
  {
   "cell_type": "code",
   "execution_count": 2,
   "id": "40eafc1d",
   "metadata": {},
   "outputs": [
    {
     "name": "stdout",
     "output_type": "stream",
     "text": [
      "ppp\n",
      "yyy\n",
      "ttt\n",
      "hhh\n",
      "ooo\n",
      "nnn\n"
     ]
    }
   ],
   "source": [
    "word = 'python'\n",
    "for char in word:\n",
    "    print(char * 3)"
   ]
  },
  {
   "cell_type": "code",
   "execution_count": 8,
   "id": "20a027a6",
   "metadata": {},
   "outputs": [
    {
     "name": "stdout",
     "output_type": "stream",
     "text": [
      "pppyyyttthhhooonnn"
     ]
    }
   ],
   "source": [
    "word = 'python'\n",
    "for char in word:\n",
    "    print(char * 3,end='')"
   ]
  },
  {
   "cell_type": "code",
   "execution_count": 7,
   "id": "aa950a6a",
   "metadata": {},
   "outputs": [
    {
     "name": "stdout",
     "output_type": "stream",
     "text": [
      "Hey Ayo, this is a reminder of our meeting on friday, 12pm\n",
      "Hey Pam, this is a reminder of our meeting on friday, 12pm\n",
      "Hey Ify, this is a reminder of our meeting on friday, 12pm\n",
      "Hey Kola, this is a reminder of our meeting on friday, 12pm\n",
      "Hey Ateli, this is a reminder of our meeting on friday, 12pm\n"
     ]
    }
   ],
   "source": [
    "#have a list of five friends\n",
    "#hey (name), this is the reminder of our meeting on friday, 12pm\n",
    "friends = ['Ayo', 'Pam', 'Ify', 'Kola', 'Ateli']\n",
    "for x in friends:\n",
    "    print(f'Hey {x}, this is a reminder of our meeting on friday, 12pm')"
   ]
  },
  {
   "cell_type": "code",
   "execution_count": 12,
   "id": "d2f39e43",
   "metadata": {},
   "outputs": [
    {
     "name": "stdout",
     "output_type": "stream",
     "text": [
      "The total cost of items in the cart is N51000.0\n"
     ]
    }
   ],
   "source": [
    "# Write a program to check if an item is in stock and calculate the total cost of items in a shopping cart\n",
    "product = {\n",
    "    'item1':{'Name':'Big Burger','Price':3000.00,'Stock':30},\n",
    "    'item2':{'Name':'Small Burger','Price':1500.00,'Stock':60},\n",
    "    'item3':{'Name':'Chicken Pie','Price':900.00,'Stock':100},\n",
    "}\n",
    "cart = []\n",
    "totalcost = 0\n",
    "cart.append(('item1',5))\n",
    "cart.append(('item2',15))\n",
    "cart.append(('item3',15))\n",
    "for item in cart:\n",
    "    id,quantity = item\n",
    "    if id in product and product[id]['Stock'] >= quantity:\n",
    "        totalcost +=product[id]['Price'] * quantity #totalcost = totalcost + product[id]['Price'] * quantity\n",
    "    else:\n",
    "        print('Product out of stock')\n",
    "if totalcost > 0:\n",
    "    print(f'The total cost of items in the cart is N{totalcost}')\n",
    "else:\n",
    "    print('No item in cart')"
   ]
  },
  {
   "cell_type": "code",
   "execution_count": 14,
   "id": "32beb7a4",
   "metadata": {},
   "outputs": [
    {
     "name": "stdout",
     "output_type": "stream",
     "text": [
      "Enter a  number: 49\n",
      "The SQRT of 49 is 7.0\n",
      "Enter a number: 81\n",
      "The SQRT of 81 is 9.0\n",
      "Enter a number: 36\n",
      "The SQRT of 36 is 6.0\n",
      "Enter a number: 100\n",
      "The SQRT of 100 is 10.0\n",
      "Enter a number: 121\n",
      "The SQRT of 121 is 11.0\n",
      "Enter a number: 0\n"
     ]
    }
   ],
   "source": [
    "#While loop you might not know the value but while the condition is true the program will keep running unless the\n",
    "#condition is false\n",
    "usernumber = int(input('Enter a  number: '))\n",
    "import math\n",
    "counter = 0\n",
    "while usernumber != 0:\n",
    "    print(f'The SQRT of {usernumber} is {math.sqrt(usernumber)}')\n",
    "    counter +=1\n",
    "    usernumber = int(input('Enter a number: '))"
   ]
  },
  {
   "cell_type": "code",
   "execution_count": 16,
   "id": "638b474a",
   "metadata": {},
   "outputs": [
    {
     "name": "stdout",
     "output_type": "stream",
     "text": [
      "5\n"
     ]
    }
   ],
   "source": [
    "print(counter)"
   ]
  },
  {
   "cell_type": "code",
   "execution_count": 18,
   "id": "d6a29083",
   "metadata": {},
   "outputs": [
    {
     "name": "stdout",
     "output_type": "stream",
     "text": [
      "Enter your username: Aku\n",
      "Enter your password: rehsajia\n",
      "Login failed\n",
      "Enter your username: gg\n",
      "Enter your password: bnBUX;JU\n",
      "Login failed\n",
      "Enter your username: UUGxu\n",
      "Enter your password: bjvau\\\n",
      "Login failed\n",
      "Maximum Login Reacahed. Account Locked.....\n"
     ]
    }
   ],
   "source": [
    "#Write a simple authentication system that checks a user's credentials to allow a maximum attempt of 3 times login\n",
    "max_amount = 3\n",
    "login_attempt = 0\n",
    "correctusername = 'Mara'\n",
    "correctpassword = 'myjigga1'\n",
    "while login_attempt < max_amount:\n",
    "    username = input('Enter your username: ')\n",
    "    password = input('Enter your password: ')\n",
    "    if username == correctusername and password == correctpassword:\n",
    "        print('Access Granted.....')\n",
    "        break\n",
    "    else:\n",
    "        print('Login failed')\n",
    "        login_attempt +=1\n",
    "if login_attempt == max_amount:\n",
    "    print('Maximum Login Reacahed. Account Locked.....')"
   ]
  },
  {
   "cell_type": "code",
   "execution_count": 25,
   "id": "a2e5784a",
   "metadata": {},
   "outputs": [
    {
     "name": "stdout",
     "output_type": "stream",
     "text": [
      "Enter number: 78\n",
      "78 x 1 = 78\n",
      "78 x 2 = 156\n",
      "78 x 3 = 234\n",
      "78 x 4 = 312\n",
      "78 x 5 = 390\n",
      "78 x 6 = 468\n",
      "78 x 7 = 546\n",
      "78 x 8 = 624\n",
      "78 x 9 = 702\n",
      "78 x 10 = 780\n",
      "78 x 11 = 858\n",
      "78 x 12 = 936\n"
     ]
    }
   ],
   "source": [
    "#use a while loop to generate a timetable from 1 t0 12 with a user's number\n",
    "user_number = int(input('Enter number: '))\n",
    "end = 1\n",
    "while end <=12 :\n",
    "    print(f'{user_number} x {end} = {user_number * end}')\n",
    "    end+=1"
   ]
  },
  {
   "cell_type": "code",
   "execution_count": null,
   "id": "019006fd",
   "metadata": {},
   "outputs": [],
   "source": []
  },
  {
   "cell_type": "code",
   "execution_count": null,
   "id": "069297a9",
   "metadata": {},
   "outputs": [],
   "source": []
  }
 ],
 "metadata": {
  "kernelspec": {
   "display_name": "Python 3 (ipykernel)",
   "language": "python",
   "name": "python3"
  },
  "language_info": {
   "codemirror_mode": {
    "name": "ipython",
    "version": 3
   },
   "file_extension": ".py",
   "mimetype": "text/x-python",
   "name": "python",
   "nbconvert_exporter": "python",
   "pygments_lexer": "ipython3",
   "version": "3.11.5"
  }
 },
 "nbformat": 4,
 "nbformat_minor": 5
}
