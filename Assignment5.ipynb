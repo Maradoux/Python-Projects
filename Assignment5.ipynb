{
 "cells": [
  {
   "cell_type": "code",
   "execution_count": 43,
   "id": "0fc53b4e",
   "metadata": {},
   "outputs": [
    {
     "name": "stdout",
     "output_type": "stream",
     "text": [
      "Which gear do you want to drive the car in?\n",
      "____GEAR CHOICE____\n",
      "P-PARK\n",
      "D-DRIVE\n",
      "R-REVERSE\n",
      "N-NEUTRAL\n",
      "1-GEAR 1\n",
      "2-GEAR 2\n",
      "\n",
      "Enter your choice: r\n",
      "The car is in Reverse mode.\n"
     ]
    }
   ],
   "source": [
    "class CarSimulation:\n",
    "    def __init__(self, brand, model, year, color, speed):\n",
    "        self.brand = brand\n",
    "        self.model = model\n",
    "        self.year = year\n",
    "        self.color = color\n",
    "        self.speed = speed\n",
    "    \n",
    "    def start(self):\n",
    "        option = input('Do you want to start the car?')  \n",
    "        if option == 'yes':\n",
    "            print(f'The {self.color} car has started the engine.')\n",
    "        elif option == 'no':\n",
    "            print(f'The {self.color} car is inactive.')\n",
    "    \n",
    "    def changegear(self):\n",
    "        print('Which gear do you want to drive the car in?')\n",
    "        print('''____GEAR CHOICE____\n",
    "P-PARK\n",
    "D-DRIVE\n",
    "R-REVERSE\n",
    "N-NEUTRAL\n",
    "1-GEAR 1\n",
    "2-GEAR 2\n",
    "''')\n",
    "        \n",
    "        while True:\n",
    "            option = input('Enter your choice: ')\n",
    "            \n",
    "            if option.lower() in ['p', 'd', 'r', 'n', '1', '2']:\n",
    "                break\n",
    "            else:\n",
    "                print('Invalid gear choice. Please choose a valid option.')\n",
    "\n",
    "        if option.lower() == 'p':\n",
    "            print('The car is in Park mode.')\n",
    "        elif option.lower() == 'd':\n",
    "            print('The car is in Drive mode.')\n",
    "        elif option.lower() == 'r':\n",
    "            print('The car is in Reverse mode.')\n",
    "        elif option.lower() == 'n':\n",
    "            print('The car is in Neutral mode.')\n",
    "        elif option == '1':\n",
    "            print('The car is in Gear 1 mode.')\n",
    "        elif option == '2':\n",
    "            print('The car is in Gear 2 mode.')\n",
    "    \n",
    "    def accelerate(self):\n",
    "        print('Which gear do you want to move to?')\n",
    "        print('''__GEAR__\n",
    "1-GEAR 1\n",
    "2-GEAR 2\n",
    "''')\n",
    "        gear = input('Enter your choice: ')\n",
    "        \n",
    "        if gear == '1':\n",
    "            print(f'The car\\'s speed is at {self.speed}MPH in Gear 1.')\n",
    "        elif gear == '2':\n",
    "            print(f'The car\\'s speed is at {self.speed}MPH in Gear 2.')\n",
    "\n",
    "    def stop(self):\n",
    "        print('Do you want to stop the car?') \n",
    "        print('1.Yes\\n2. No')\n",
    "        option = input('Enter choice: ')\n",
    "        if option.lower() == 'yes':\n",
    "            print(f'The {self.color} car engine is stopped.')\n",
    "        elif option.lower() == 'no':\n",
    "            print(f'The {self.color} car is still active.')\n",
    "\n",
    "\n",
    "car = CarSimulation('Lexus', 'F Sport RX350', 2027, 'Silver', 60)\n",
    "\n",
    "car.changegear()"
   ]
  },
  {
   "cell_type": "code",
   "execution_count": 9,
   "id": "2fcfbde6",
   "metadata": {},
   "outputs": [
    {
     "name": "stdout",
     "output_type": "stream",
     "text": [
      "Do you want to stop the car?\n",
      "1.Yes\n",
      "2. No\n",
      "Enter choice: yes\n",
      "The Silver car engine is stopped.\n"
     ]
    }
   ],
   "source": [
    "car.stop()"
   ]
  },
  {
   "cell_type": "code",
   "execution_count": 10,
   "id": "ac400ab6",
   "metadata": {},
   "outputs": [
    {
     "name": "stdout",
     "output_type": "stream",
     "text": [
      "Which gear do you want to drive the car in?\n",
      "____GEAR CHOICE____\n",
      "P-PARK\n",
      "D-DRIVE\n",
      "R-REVERSE\n",
      "N-NEUTRAL\n",
      "1-GEAR 1\n",
      "2-GEAR 2\n",
      "\n",
      "Enter your choice: r\n",
      "The car is in Reverse mode.\n"
     ]
    }
   ],
   "source": [
    "car.changegear()"
   ]
  },
  {
   "cell_type": "code",
   "execution_count": 44,
   "id": "8c83dc3e",
   "metadata": {},
   "outputs": [
    {
     "name": "stdout",
     "output_type": "stream",
     "text": [
      "Current\n",
      "1. 0\n",
      "2. 25\n",
      "3. 50\n",
      "4. 75\n",
      "Enter value of current tank: 50\n",
      "Number of Litres to fill\n",
      "1. 25\n",
      "2. 50\n",
      "Enter number of litres to fill: 50\n",
      "100 Litre x N650 = 65000 Naira\n",
      "Your tank is 100% filled.\n"
     ]
    }
   ],
   "source": [
    "class AnotherSimulation(CarSimulation):\n",
    "    add_fuel = 0\n",
    "    per_litre = 650\n",
    "    \n",
    "    def add_fuel(self):\n",
    "        while True:\n",
    "            print('Current\\n1. 0\\n2. 25\\n3. 50\\n4. 75')\n",
    "            current_tank = int(input('Enter value of current tank: '))\n",
    "            \n",
    "            \n",
    "            if current_tank == 0:\n",
    "                print('Number of Litres to fill\\n1. 25\\n2. 50\\n3. 75\\n4. 100')\n",
    "                litre = int(input('Enter number of litres to fill: '))\n",
    "                refilled_tank = current_tank + litre\n",
    "                break\n",
    "            elif current_tank == 25:\n",
    "                print('Number of Litres to fill\\n1. 25\\n2. 50\\n3. 75')\n",
    "                litre = int(input('Enter number of litres to fill: '))\n",
    "                refilled_tank = current_tank + litre\n",
    "                break\n",
    "            elif current_tank == 50:\n",
    "                print('Number of Litres to fill\\n1. 25\\n2. 50')\n",
    "                litre = int(input('Enter number of litres to fill: '))\n",
    "                refilled_tank = current_tank + litre\n",
    "                break\n",
    "            elif current_tank == 75:\n",
    "                print('Number of Litres to fill\\n1. 25')\n",
    "                litre = int(input('Enter number of litres to fill: '))\n",
    "                refilled_tank = current_tank + litre\n",
    "                break\n",
    "        else:\n",
    "                print('Invalid Litre choice.')\n",
    "                \n",
    "        if refilled_tank == 25:\n",
    "            print(f'{refilled_tank} Litre x N{self.per_litre} = {refilled_tank * self.per_litre} Naira')\n",
    "            print('Your tank is 25% filled.')\n",
    "        elif refilled_tank == 50:\n",
    "            print(f'{refilled_tank} Litre x N{self.per_litre} = {refilled_tank * self.per_litre} Naira')\n",
    "            print('Your tank is 50% filled.')\n",
    "        elif refilled_tank == 75:\n",
    "            print(f'{refilled_tank} Litre x N{self.per_litre} = {refilled_tank * self.per_litre} Naira')\n",
    "            print('Your tank is 75% filled.')\n",
    "        elif refilled_tank == 100:\n",
    "            print(f'{refilled_tank} Litre x N{self.per_litre} = {refilled_tank * self.per_litre} Naira')\n",
    "            print('Your tank is 100% filled.')\n",
    "        \n",
    "car1 = AnotherSimulation('Lexus', 'F Sport RX350', 2029, 'Silver', 100)\n",
    "car1.add_fuel()"
   ]
  },
  {
   "cell_type": "code",
   "execution_count": 28,
   "id": "0a2817c8",
   "metadata": {},
   "outputs": [
    {
     "name": "stdout",
     "output_type": "stream",
     "text": [
      "Which gear do you want to drive the car in?\n",
      "____GEAR CHOICE____\n",
      "P-PARK\n",
      "D-DRIVE\n",
      "R-REVERSE\n",
      "N-NEUTRAL\n",
      "1-GEAR 1\n",
      "2-GEAR 2\n",
      "\n",
      "Enter your choice: d\n",
      "The car is in Drive mode.\n"
     ]
    }
   ],
   "source": [
    "car1.changegear()"
   ]
  },
  {
   "cell_type": "code",
   "execution_count": 30,
   "id": "c4a77a9a",
   "metadata": {},
   "outputs": [
    {
     "name": "stdout",
     "output_type": "stream",
     "text": [
      "Which gear do you want to move to?\n",
      "__GEAR__\n",
      "1-GEAR 1\n",
      "2-GEAR 2\n",
      "\n",
      "Enter your choice: 2\n",
      "The car's speed is at 110MPH in Gear 2.\n"
     ]
    }
   ],
   "source": [
    "car1.accelerate()"
   ]
  },
  {
   "cell_type": "code",
   "execution_count": null,
   "id": "c4f05e4a",
   "metadata": {},
   "outputs": [],
   "source": []
  }
 ],
 "metadata": {
  "kernelspec": {
   "display_name": "Python 3 (ipykernel)",
   "language": "python",
   "name": "python3"
  },
  "language_info": {
   "codemirror_mode": {
    "name": "ipython",
    "version": 3
   },
   "file_extension": ".py",
   "mimetype": "text/x-python",
   "name": "python",
   "nbconvert_exporter": "python",
   "pygments_lexer": "ipython3",
   "version": "3.11.5"
  }
 },
 "nbformat": 4,
 "nbformat_minor": 5
}
