{
 "cells": [
  {
   "cell_type": "code",
   "execution_count": 1,
   "id": "f0c7c77f",
   "metadata": {},
   "outputs": [
    {
     "name": "stdout",
     "output_type": "stream",
     "text": [
      "['MAXYEAR', 'MINYEAR', 'UTC', '__all__', '__builtins__', '__cached__', '__doc__', '__file__', '__loader__', '__name__', '__package__', '__spec__', 'date', 'datetime', 'datetime_CAPI', 'sys', 'time', 'timedelta', 'timezone', 'tzinfo']\n"
     ]
    }
   ],
   "source": [
    "import datetime\n",
    "print(dir(datetime))"
   ]
  },
  {
   "cell_type": "code",
   "execution_count": 2,
   "id": "7801b9bd",
   "metadata": {},
   "outputs": [
    {
     "data": {
      "text/plain": [
       "datetime.date(2023, 8, 18)"
      ]
     },
     "execution_count": 2,
     "metadata": {},
     "output_type": "execute_result"
    }
   ],
   "source": [
    "date1 = datetime.date(2023,8,18)\n",
    "date1"
   ]
  },
  {
   "cell_type": "code",
   "execution_count": 3,
   "id": "16aa7d65",
   "metadata": {},
   "outputs": [
    {
     "name": "stdout",
     "output_type": "stream",
     "text": [
      "2023\n",
      "8\n",
      "18\n",
      "4\n",
      "5\n"
     ]
    }
   ],
   "source": [
    "print(date1.year)\n",
    "print(date1.month)\n",
    "print(date1.day)\n",
    "print(date1.weekday())\n",
    "print(date1.isoweekday())"
   ]
  },
  {
   "cell_type": "code",
   "execution_count": 4,
   "id": "6a0e10b8",
   "metadata": {},
   "outputs": [
    {
     "data": {
      "text/plain": [
       "datetime.date(2024, 2, 6)"
      ]
     },
     "execution_count": 4,
     "metadata": {},
     "output_type": "execute_result"
    }
   ],
   "source": [
    "#strftime: this is the used for the modification of date and time formatted in a string, string format time\n",
    "#to get the current date\n",
    "current_date =datetime.date.today()\n",
    "current_date"
   ]
  },
  {
   "cell_type": "code",
   "execution_count": 5,
   "id": "960a0c9b",
   "metadata": {},
   "outputs": [
    {
     "name": "stdout",
     "output_type": "stream",
     "text": [
      "Tuesday\n",
      "Tue\n",
      "February\n",
      "Feb\n",
      "2024\n",
      "24\n",
      "02\n",
      "06\n"
     ]
    }
   ],
   "source": [
    "#Date\n",
    "print(current_date.strftime('%A')) #full lettered day\n",
    "print(current_date.strftime('%a'))# Abbreviated day\n",
    "print(current_date.strftime('%B'))\n",
    "print(current_date.strftime('%b'))\n",
    "print(current_date.strftime('%Y'))\n",
    "print(current_date.strftime('%y'))\n",
    "print(current_date.strftime('%m'))\n",
    "print(current_date.strftime('%d'))"
   ]
  },
  {
   "cell_type": "code",
   "execution_count": 6,
   "id": "48afd9e4",
   "metadata": {},
   "outputs": [
    {
     "name": "stdout",
     "output_type": "stream",
     "text": [
      "06th of February, 2024\n"
     ]
    }
   ],
   "source": [
    "# format the current date in this format 30th of January 2024\n",
    "print(current_date.strftime('%dth of %B, %Y'))"
   ]
  },
  {
   "cell_type": "code",
   "execution_count": 7,
   "id": "f679df68",
   "metadata": {},
   "outputs": [
    {
     "data": {
      "text/plain": [
       "datetime.time(14, 56, 32, 123456)"
      ]
     },
     "execution_count": 7,
     "metadata": {},
     "output_type": "execute_result"
    }
   ],
   "source": [
    "#time,milisecond takes not more than six digits\n",
    "time1 = datetime.time(14,56,32,123456)\n",
    "time1 "
   ]
  },
  {
   "cell_type": "code",
   "execution_count": 8,
   "id": "45a78731",
   "metadata": {},
   "outputs": [
    {
     "name": "stdout",
     "output_type": "stream",
     "text": [
      "14\n",
      "56\n",
      "32\n",
      "123456\n"
     ]
    }
   ],
   "source": [
    "print(time1.hour)\n",
    "print(time1.minute)\n",
    "print(time1.second)\n",
    "print(time1.microsecond)"
   ]
  },
  {
   "cell_type": "code",
   "execution_count": 9,
   "id": "e66686df",
   "metadata": {},
   "outputs": [
    {
     "data": {
      "text/plain": [
       "datetime.time(9, 35, 29, 196765)"
      ]
     },
     "execution_count": 9,
     "metadata": {},
     "output_type": "execute_result"
    }
   ],
   "source": [
    "current_time = datetime.datetime.now().time()\n",
    "current_time"
   ]
  },
  {
   "cell_type": "code",
   "execution_count": 10,
   "id": "ec413018",
   "metadata": {},
   "outputs": [
    {
     "name": "stdout",
     "output_type": "stream",
     "text": [
      "09\n",
      "09\n",
      "35\n",
      "29\n",
      "196765\n",
      "AM\n"
     ]
    }
   ],
   "source": [
    "print(current_time.strftime('%H')) #24 hours\n",
    "print(current_time.strftime('%I'))# 12 hours\n",
    "print(current_time.strftime('%M'))#minutes\n",
    "print(current_time.strftime('%S'))#second\n",
    "print(current_time.strftime('%f'))#milisecond\n",
    "print(current_time.strftime('%p'))#current meridian\n"
   ]
  },
  {
   "cell_type": "code",
   "execution_count": 11,
   "id": "2bcdf63e",
   "metadata": {},
   "outputs": [
    {
     "data": {
      "text/plain": [
       "datetime.time(9, 35, 29, 270492)"
      ]
     },
     "execution_count": 11,
     "metadata": {},
     "output_type": "execute_result"
    }
   ],
   "source": [
    "current_date_time = datetime.datetime.now().time()\n",
    "current_date_time"
   ]
  },
  {
   "cell_type": "code",
   "execution_count": null,
   "id": "df0100bf",
   "metadata": {},
   "outputs": [],
   "source": [
    "#strptime: this converts a date in string format to datetime format\n",
    "date2 = input('Please enter your date[mm/dd/yy]:')\n",
    "cdate = datetime.datetime.strptime(date2,'%m/%d/%Y').date()\n",
    "print(cdate)"
   ]
  },
  {
   "cell_type": "code",
   "execution_count": null,
   "id": "2595aef5",
   "metadata": {},
   "outputs": [],
   "source": [
    "#timedelta: is the difference between two dates and times\n",
    "current_date - date1"
   ]
  },
  {
   "cell_type": "code",
   "execution_count": null,
   "id": "526e6a26",
   "metadata": {},
   "outputs": [],
   "source": [
    "current_date + datetime.timedelta(weeks = 12)"
   ]
  },
  {
   "cell_type": "code",
   "execution_count": null,
   "id": "abaa81d5",
   "metadata": {},
   "outputs": [],
   "source": [
    "#EXERCISE\n",
    "#Early code is building a system for student you are instructed by the leader to write acode that allows students to \n",
    "#check there exam date in weeks and days from the current date\n",
    "exam_date = input('Provide the date[dd/mm/yy]: ')\n",
    "exam_check = datetime.datetime.strptime(exam_date, '%d/%m/%Y').date()\n",
    "currentdate = datetime.date.today()\n",
    "difference = exam_check - currentdate\n",
    "weeks = difference.days// 7\n",
    "days = difference.days% 7\n",
    "print(f'Your exam date is in {weeks} weeks and {days} days)')\n"
   ]
  },
  {
   "cell_type": "code",
   "execution_count": null,
   "id": "ae57977e",
   "metadata": {},
   "outputs": [],
   "source": []
  }
 ],
 "metadata": {
  "kernelspec": {
   "display_name": "Python 3 (ipykernel)",
   "language": "python",
   "name": "python3"
  },
  "language_info": {
   "codemirror_mode": {
    "name": "ipython",
    "version": 3
   },
   "file_extension": ".py",
   "mimetype": "text/x-python",
   "name": "python",
   "nbconvert_exporter": "python",
   "pygments_lexer": "ipython3",
   "version": "3.11.5"
  }
 },
 "nbformat": 4,
 "nbformat_minor": 5
}
