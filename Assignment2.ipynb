{
 "cells": [
  {
   "cell_type": "code",
   "execution_count": 1,
   "id": "4ec80835",
   "metadata": {},
   "outputs": [
    {
     "name": "stdout",
     "output_type": "stream",
     "text": [
      "['1', '2', '3', '4', '5', '6']\n"
     ]
    }
   ],
   "source": [
    "#List\n",
    "integers = ['1','2','3','4','5']\n",
    "# Appending number 6 at the end of the list\n",
    "integers.append('6')\n",
    "print(integers)"
   ]
  },
  {
   "cell_type": "code",
   "execution_count": 2,
   "id": "c0922ad8",
   "metadata": {},
   "outputs": [
    {
     "name": "stdout",
     "output_type": "stream",
     "text": [
      "11\n"
     ]
    }
   ],
   "source": [
    "# to find the length of the list\n",
    "numbers = ['11','38','85','72','97','29','51','61','16','60','53']\n",
    "print(len(numbers))"
   ]
  },
  {
   "cell_type": "code",
   "execution_count": 4,
   "id": "00bbc180",
   "metadata": {},
   "outputs": [
    {
     "name": "stdout",
     "output_type": "stream",
     "text": [
      "['Apple', 'Mango', 'Grape', 'Lemon', 'Watermelon', 'Pear', 'Pawpaw']\n"
     ]
    }
   ],
   "source": [
    "# to remove a specific fruit (orange) from the list\n",
    "fruits = ['Apple','Mango','Orange','Grape','Lemon','Watermelon','Pear','Pawpaw',]\n",
    "fruits.remove('Orange')\n",
    "print(fruits)"
   ]
  },
  {
   "cell_type": "code",
   "execution_count": 5,
   "id": "a9aba867",
   "metadata": {},
   "outputs": [
    {
     "name": "stdout",
     "output_type": "stream",
     "text": [
      "True\n"
     ]
    }
   ],
   "source": [
    "# to check if a particular element (lemon) exist\n",
    "fruits = ['Apple','Mango','Orange','Grape','Lemon','Watermelon','Pear','Pawpaw',]\n",
    "print('Lemon' in fruits)"
   ]
  },
  {
   "cell_type": "code",
   "execution_count": 7,
   "id": "ea01d4c1",
   "metadata": {},
   "outputs": [
    {
     "name": "stdout",
     "output_type": "stream",
     "text": [
      "97\n"
     ]
    }
   ],
   "source": [
    "# to find the maximum value in numbers\n",
    "numbers = ['11','38','85','72','97','29','51','61','16','60','53']\n",
    "print(max(numbers))"
   ]
  },
  {
   "cell_type": "code",
   "execution_count": 8,
   "id": "11ce925b",
   "metadata": {},
   "outputs": [
    {
     "name": "stdout",
     "output_type": "stream",
     "text": [
      "11\n"
     ]
    }
   ],
   "source": [
    "#to find the minimum values in numbers\n",
    "print(min(numbers))"
   ]
  },
  {
   "cell_type": "code",
   "execution_count": 9,
   "id": "d816a749",
   "metadata": {},
   "outputs": [
    {
     "name": "stdout",
     "output_type": "stream",
     "text": [
      "['Amara', 'Ayo', 'Betty', 'Clara', 'Dele', 'Divine', 'Evelyn', 'Gideon', 'Kathy']\n"
     ]
    }
   ],
   "source": [
    "# to sort a list of names in alphabetical order\n",
    "names = ['Dele','Ayo','Clara','Divine','Betty','Gideon','Kathy','Evelyn','Amara']\n",
    "names.sort()\n",
    "print(names)"
   ]
  },
  {
   "cell_type": "code",
   "execution_count": 13,
   "id": "25a45f84",
   "metadata": {},
   "outputs": [
    {
     "name": "stdout",
     "output_type": "stream",
     "text": [
      "['Rice', 'Pasta', 'Peas', 'Beans', 'Akara']\n"
     ]
    }
   ],
   "source": [
    "#create a list (food) with duplicate elements, to remove duplicates and create a new list without duplicates\n",
    "food = ['Rice','Beans','Peas','Akara','Pasta','Beans']\n",
    "new_food = list(set(food))\n",
    "print(new_food)"
   ]
  },
  {
   "cell_type": "code",
   "execution_count": 14,
   "id": "88a5d26d",
   "metadata": {},
   "outputs": [
    {
     "name": "stdout",
     "output_type": "stream",
     "text": [
      "['Pawpaw', 'Pear', 'Watermelon', 'Lemon', 'Grape', 'Mango', 'Apple']\n"
     ]
    }
   ],
   "source": [
    "#to reverse the list (fruits) in place  duplicates\n",
    "fruits = ['Apple','Mango','Grape','Lemon','Watermelon','Pear','Pawpaw',]\n",
    "fruits.reverse()\n",
    "print(fruits)"
   ]
  },
  {
   "cell_type": "code",
   "execution_count": 17,
   "id": "dd6d8d0c",
   "metadata": {},
   "outputs": [
    {
     "name": "stdout",
     "output_type": "stream",
     "text": [
      "['Pawpaw', 'Pear', 'Watermelon', 'Lemon', 'Grape', 'Mango', 'Apple', 'Rice', 'Beans', 'Peas', 'Akara', 'Pasta', 'Beans', 'Rice', 'Beans', 'Peas', 'Akara', 'Pasta', 'Beans']\n"
     ]
    }
   ],
   "source": [
    "#if you have two lists and you want to combine them to create a new list\n",
    "fruits = ['Apple','Mango','Grape','Lemon','Watermelon','Pear','Pawpaw',]\n",
    "food = ['Rice','Beans','Peas','Akara','Pasta','Beans']\n",
    "allFoods = fruits + food\n",
    "print(allFoods)"
   ]
  },
  {
   "cell_type": "code",
   "execution_count": 19,
   "id": "d8a1cead",
   "metadata": {},
   "outputs": [
    {
     "name": "stdout",
     "output_type": "stream",
     "text": [
      "2\n",
      "4\n",
      "6\n",
      "8\n",
      "10\n"
     ]
    }
   ],
   "source": [
    "# you can iterate a list by using the for loop operation. So performing the multiplication operation we have:\n",
    "my_list = [1, 2, 3, 4, 5]\n",
    "\n",
    "for element in my_list:# Perform operations on element\n",
    "    print(element * 2)  # Example: Multiply each element by 2"
   ]
  },
  {
   "cell_type": "code",
   "execution_count": 19,
   "id": "62694e52",
   "metadata": {},
   "outputs": [
    {
     "name": "stdout",
     "output_type": "stream",
     "text": [
      "83\n"
     ]
    }
   ],
   "source": [
    "#Tuple\n",
    "score = (45,83,34)\n",
    "# you can select the second number by indicating the index of the second number\n",
    "print(score[1])"
   ]
  },
  {
   "cell_type": "code",
   "execution_count": 27,
   "id": "0db09b1c",
   "metadata": {},
   "outputs": [
    {
     "ename": "AttributeError",
     "evalue": "'tuple' object has no attribute 'sort'",
     "output_type": "error",
     "traceback": [
      "\u001b[1;31m---------------------------------------------------------------------------\u001b[0m",
      "\u001b[1;31mAttributeError\u001b[0m                            Traceback (most recent call last)",
      "Cell \u001b[1;32mIn[27], line 3\u001b[0m\n\u001b[0;32m      1\u001b[0m \u001b[38;5;66;03m# No it is not possible to modify a tuple after it is created. Tuple are designed to be fixed and unchangeable after\u001b[39;00m\n\u001b[0;32m      2\u001b[0m \u001b[38;5;66;03m# it has been created\u001b[39;00m\n\u001b[1;32m----> 3\u001b[0m \u001b[38;5;28mprint\u001b[39m(score\u001b[38;5;241m.\u001b[39msort())\n",
      "\u001b[1;31mAttributeError\u001b[0m: 'tuple' object has no attribute 'sort'"
     ]
    }
   ],
   "source": [
    "# No it is not possible to modify a tuple after it is created. Tuple are designed to be fixed and unchangeable after\n",
    "# it has been created\n",
    "print(score.sort())"
   ]
  },
  {
   "cell_type": "code",
   "execution_count": 21,
   "id": "50c19fa6",
   "metadata": {},
   "outputs": [
    {
     "name": "stdout",
     "output_type": "stream",
     "text": [
      "(56, 85, 42, 40, 78, 54)\n"
     ]
    }
   ],
   "source": [
    "# you can concantenate two tuple to create a new tuple by using the addition operation\n",
    "tuple1 = (56,85,42)\n",
    "tuple2 = (40,78,54)\n",
    "tuple3 = tuple1 + tuple2\n",
    "print(tuple3)"
   ]
  },
  {
   "cell_type": "code",
   "execution_count": 22,
   "id": "f723272d",
   "metadata": {},
   "outputs": [
    {
     "name": "stdout",
     "output_type": "stream",
     "text": [
      "4\n"
     ]
    }
   ],
   "source": [
    "# to find the index of a particular number(78) in tuple3\n",
    "tuple3 = (56, 85, 42, 40, 78, 54)\n",
    "print(tuple3.index(78))"
   ]
  },
  {
   "cell_type": "code",
   "execution_count": 24,
   "id": "bdd7ad3e",
   "metadata": {},
   "outputs": [
    {
     "name": "stdout",
     "output_type": "stream",
     "text": [
      "[56, 85, 42, 40, 78, 54]\n"
     ]
    }
   ],
   "source": [
    "# Yes you can by using the list() function\n",
    "my_list = list(tuple3)\n",
    "print(my_list)"
   ]
  },
  {
   "cell_type": "code",
   "execution_count": 25,
   "id": "35d73d55",
   "metadata": {},
   "outputs": [
    {
     "name": "stdout",
     "output_type": "stream",
     "text": [
      "3\n"
     ]
    }
   ],
   "source": [
    "#to find the occurence of a particular element in the tuple \n",
    "tuple4 = (56,78,43,57,58,64,78,48,78,32)\n",
    "print(tuple4.count(78))"
   ]
  },
  {
   "cell_type": "code",
   "execution_count": 26,
   "id": "737fbcbb",
   "metadata": {},
   "outputs": [
    {
     "name": "stdout",
     "output_type": "stream",
     "text": [
      "56\n",
      "85\n",
      "42\n"
     ]
    }
   ],
   "source": [
    "# yes you can unpack the elements of a tuple into individual variables in python by assigning a variable to each element\n",
    "tuple1 = (56,85,42)\n",
    "x,y,z = tuple1\n",
    "print(x)\n",
    "print(y)\n",
    "print(z)"
   ]
  },
  {
   "cell_type": "code",
   "execution_count": 28,
   "id": "2718cd7a",
   "metadata": {},
   "outputs": [
    {
     "name": "stdout",
     "output_type": "stream",
     "text": [
      "(34, 'Ball', 2.56, False)\n"
     ]
    }
   ],
   "source": [
    "# Yes, a tuple can contain more than one data type. For example:\n",
    "myTuple = (34,'Ball',2.56,False)\n",
    "print(myTuple)"
   ]
  },
  {
   "cell_type": "code",
   "execution_count": 29,
   "id": "bc5b03e0",
   "metadata": {},
   "outputs": [
    {
     "name": "stdout",
     "output_type": "stream",
     "text": [
      "False\n"
     ]
    }
   ],
   "source": [
    "# to check if a particular element exist in a tuple you use Membership operators\n",
    "tuple1 = (56,85,42)\n",
    "print(43 in tuple1)"
   ]
  },
  {
   "cell_type": "code",
   "execution_count": 31,
   "id": "75c0335e",
   "metadata": {},
   "outputs": [
    {
     "name": "stdout",
     "output_type": "stream",
     "text": [
      "10\n"
     ]
    }
   ],
   "source": [
    "# to find the length of a given tuple\n",
    "tuple4 = (56,78,43,57,58,64,78,48,78,32)\n",
    "print(len(tuple4))"
   ]
  },
  {
   "cell_type": "code",
   "execution_count": 32,
   "id": "4826ee09",
   "metadata": {},
   "outputs": [
    {
     "name": "stdout",
     "output_type": "stream",
     "text": [
      "{'Name': 'Pamela', 'Age': 23, 'City': 'Gwagwalada'}\n"
     ]
    }
   ],
   "source": [
    "#Dictionary\n",
    "info = {\n",
    "    'Name':'Pamela',\n",
    "    'Age':23,\n",
    "    'City':'Gwagwalada'\n",
    "}\n",
    "print(info)"
   ]
  },
  {
   "cell_type": "code",
   "execution_count": 33,
   "id": "4d3b252e",
   "metadata": {},
   "outputs": [
    {
     "name": "stdout",
     "output_type": "stream",
     "text": [
      "{'Name': 'Pamela', 'Age': 23, 'City': 'Gwagwalada', 'Gender': 'Female'}\n"
     ]
    }
   ],
   "source": [
    "#to add a new key-value to the existing dictionary above\n",
    "info['Gender'] = 'Female'\n",
    "print(info)"
   ]
  },
  {
   "cell_type": "code",
   "execution_count": 41,
   "id": "9cd6e924",
   "metadata": {},
   "outputs": [
    {
     "name": "stdout",
     "output_type": "stream",
     "text": [
      "Gwagwalada\n"
     ]
    }
   ],
   "source": [
    "#to access a value associated with a specific key\n",
    "city = info['City']\n",
    "print(city)"
   ]
  },
  {
   "cell_type": "code",
   "execution_count": 20,
   "id": "70b86751",
   "metadata": {},
   "outputs": [
    {
     "name": "stdout",
     "output_type": "stream",
     "text": [
      "Apple: 25\n",
      "Banana: 45\n",
      "Pear: 32\n",
      "Orange: 12\n"
     ]
    }
   ],
   "source": [
    "# you can iterate through it by using the for loop\n",
    "myFruits = {\n",
    "    'Apple':25,\n",
    "    'Banana':45,\n",
    "    'Pear':32,\n",
    "    'Orange':12\n",
    "}\n",
    "for fruit_name in myFruits.keys():\n",
    "    quantity = myFruits[fruit_name]  # Access value using the key\n",
    "    print(f\"{fruit_name}: {quantity}\")\n"
   ]
  },
  {
   "cell_type": "code",
   "execution_count": 43,
   "id": "f90275c5",
   "metadata": {},
   "outputs": [
    {
     "name": "stdout",
     "output_type": "stream",
     "text": [
      "True\n"
     ]
    }
   ],
   "source": [
    "#to check if a specific key exist in a dictionary you use membership operator\n",
    "print('City' in info)"
   ]
  },
  {
   "cell_type": "code",
   "execution_count": 45,
   "id": "0ab998c0",
   "metadata": {},
   "outputs": [
    {
     "name": "stdout",
     "output_type": "stream",
     "text": [
      "{'Name': 'Ayo', 'Age': 23, 'City': 'Gwagwalada'}\n"
     ]
    }
   ],
   "source": [
    "# No, dictionary cannot have duplicate keys, each key must be unique to a value or values in a dictionary or else \n",
    "# the new key will override the previous key\n",
    "info = {\n",
    "    'Name':'Pamela',\n",
    "    'Age':23,\n",
    "    'City':'Gwagwalada',\n",
    "    'Name':'Ayo'\n",
    "}\n",
    "print(info)"
   ]
  },
  {
   "cell_type": "code",
   "execution_count": 24,
   "id": "be7426ec",
   "metadata": {},
   "outputs": [
    {
     "name": "stdout",
     "output_type": "stream",
     "text": [
      "{'Name': 'Pamela', 'Age': 23, 'City': 'Gwagwalada', 'Apple': 25, 'Banana': 45, 'Pear': 32, 'Orange': 12}\n"
     ]
    }
   ],
   "source": [
    "# To merge two dictionaries into one\n",
    "dict1 = {\n",
    "    'Name':'Pamela',\n",
    "    'Age':23,\n",
    "    'City':'Gwagwalada'\n",
    "}\n",
    "dict2 = {\n",
    "    'Apple':25,\n",
    "    'Banana':45,\n",
    "    'Pear':32,\n",
    "    'Orange':12\n",
    "}\n",
    "\n",
    "dict1.update(dict2)\n",
    "print(dict1)"
   ]
  },
  {
   "cell_type": "code",
   "execution_count": 16,
   "id": "ab2ebff6",
   "metadata": {},
   "outputs": [
    {
     "name": "stdout",
     "output_type": "stream",
     "text": [
      "32\n"
     ]
    }
   ],
   "source": [
    "# to access a value deep within the nested structure, you have turn the dictionaries you nested into keys\n",
    "allDict = {\n",
    "    'dict1': {\n",
    "        'Name': 'Pamela',\n",
    "        'Age': 23,\n",
    "        'City': 'Gwagwalada'\n",
    "    },\n",
    "    'dict2': {\n",
    "        'Apple': 25,\n",
    "        'Banana': 45,\n",
    "        'Pear': 32,\n",
    "        'Orange': 12\n",
    "    }\n",
    "}\n",
    "\n",
    "print(allDict['dict2']['Pear'])"
   ]
  },
  {
   "cell_type": "code",
   "execution_count": 27,
   "id": "b60f9f2c",
   "metadata": {},
   "outputs": [
    {
     "name": "stdout",
     "output_type": "stream",
     "text": [
      "{'Apple': 25, 'Banana': 45, 'Pear': 32, 'Orange': 12}\n"
     ]
    }
   ],
   "source": [
    "# to remove a key-value pair in a dictionary\n",
    "dict2 = {\n",
    "    'Apple':25,\n",
    "    'Banana':45,\n",
    "    'Pear':32,\n",
    "    'Orange':12,\n",
    "    'Grape':30\n",
    "}\n",
    "dict2.pop('Grape')\n",
    "print(dict2)"
   ]
  },
  {
   "cell_type": "code",
   "execution_count": 18,
   "id": "403b376c",
   "metadata": {},
   "outputs": [
    {
     "ename": "KeyError",
     "evalue": "'Gender'",
     "output_type": "error",
     "traceback": [
      "\u001b[1;31m---------------------------------------------------------------------------\u001b[0m",
      "\u001b[1;31mKeyError\u001b[0m                                  Traceback (most recent call last)",
      "Cell \u001b[1;32mIn[18], line 7\u001b[0m\n\u001b[0;32m      1\u001b[0m \u001b[38;5;66;03m# If you try to access a key that does not exist in the dictionary, it will read error. For example\u001b[39;00m\n\u001b[0;32m      2\u001b[0m dict1 \u001b[38;5;241m=\u001b[39m {\n\u001b[0;32m      3\u001b[0m         \u001b[38;5;124m'\u001b[39m\u001b[38;5;124mName\u001b[39m\u001b[38;5;124m'\u001b[39m: \u001b[38;5;124m'\u001b[39m\u001b[38;5;124mPamela\u001b[39m\u001b[38;5;124m'\u001b[39m,\n\u001b[0;32m      4\u001b[0m         \u001b[38;5;124m'\u001b[39m\u001b[38;5;124mAge\u001b[39m\u001b[38;5;124m'\u001b[39m: \u001b[38;5;241m23\u001b[39m,\n\u001b[0;32m      5\u001b[0m         \u001b[38;5;124m'\u001b[39m\u001b[38;5;124mCity\u001b[39m\u001b[38;5;124m'\u001b[39m: \u001b[38;5;124m'\u001b[39m\u001b[38;5;124mGwagwalada\u001b[39m\u001b[38;5;124m'\u001b[39m\n\u001b[0;32m      6\u001b[0m }\n\u001b[1;32m----> 7\u001b[0m \u001b[38;5;28mprint\u001b[39m(dict1[\u001b[38;5;124m'\u001b[39m\u001b[38;5;124mGender\u001b[39m\u001b[38;5;124m'\u001b[39m])\n",
      "\u001b[1;31mKeyError\u001b[0m: 'Gender'"
     ]
    }
   ],
   "source": [
    "# If you try to access a key that does not exist in the dictionary, it will read error. For example\n",
    "dict1 = {\n",
    "        'Name': 'Pamela',\n",
    "        'Age': 23,\n",
    "        'City': 'Gwagwalada'\n",
    "}\n",
    "\n",
    "print(dict1['Gender'])"
   ]
  },
  {
   "cell_type": "code",
   "execution_count": null,
   "id": "95126a64",
   "metadata": {},
   "outputs": [],
   "source": []
  },
  {
   "cell_type": "code",
   "execution_count": null,
   "id": "c9692dd7",
   "metadata": {},
   "outputs": [],
   "source": []
  }
 ],
 "metadata": {
  "kernelspec": {
   "display_name": "Python 3 (ipykernel)",
   "language": "python",
   "name": "python3"
  },
  "language_info": {
   "codemirror_mode": {
    "name": "ipython",
    "version": 3
   },
   "file_extension": ".py",
   "mimetype": "text/x-python",
   "name": "python",
   "nbconvert_exporter": "python",
   "pygments_lexer": "ipython3",
   "version": "3.11.5"
  }
 },
 "nbformat": 4,
 "nbformat_minor": 5
}
