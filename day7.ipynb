{
 "cells": [
  {
   "cell_type": "code",
   "execution_count": 2,
   "id": "b8e97ead",
   "metadata": {},
   "outputs": [
    {
     "ename": "NameError",
     "evalue": "name 'math' is not defined",
     "output_type": "error",
     "traceback": [
      "\u001b[1;31m---------------------------------------------------------------------------\u001b[0m",
      "\u001b[1;31mNameError\u001b[0m                                 Traceback (most recent call last)",
      "Cell \u001b[1;32mIn[2], line 2\u001b[0m\n\u001b[0;32m      1\u001b[0m \u001b[38;5;66;03m# You have just been employed as a prorammer at earlycode academy.\u001b[39;00m\n\u001b[1;32m----> 2\u001b[0m math\u001b[38;5;241m.\u001b[39mdocs\n",
      "\u001b[1;31mNameError\u001b[0m: name 'math' is not defined"
     ]
    }
   ],
   "source": [
    "# You have just been employed as a prorammer at earlycode academy.\n",
    "math.docs"
   ]
  },
  {
   "cell_type": "code",
   "execution_count": 33,
   "id": "7bd5f272",
   "metadata": {},
   "outputs": [
    {
     "name": "stdout",
     "output_type": "stream",
     "text": [
      "Provide your Reg ID: ST002\n",
      "Student is not on the record\n",
      "_____STUDENT_RESULT_____\n",
      "Name:Ateli\n",
      "Gender:Male\n",
      "Python Assignment:92\n",
      "Python Exam:73\n",
      "Data Sciene Assignment:69\n",
      "Data Science Exam:82\n",
      "Total Score:79\n",
      "             \n"
     ]
    }
   ],
   "source": [
    "def student_score():\n",
    "    records={\n",
    "        'ST001':{\n",
    "            'Name':'Gideon',\n",
    "            'Gender': 'Male',\n",
    "            'Py_Ass': 70,\n",
    "            'Py_Ex': 59,\n",
    "            'DS_Ass': 65,\n",
    "            'DS_Ex': 80,\n",
    "        },\n",
    "        'ST002':{\n",
    "            'Name':'Ateli',\n",
    "            'Gender': 'Male',\n",
    "            'Py_Ass': 92,\n",
    "            'Py_Ex': 73,\n",
    "            'DS_Ass': 69,\n",
    "            'DS_Ex': 82\n",
    "        },\n",
    "        'ST003':{\n",
    "            'Name':'Ifeoma',\n",
    "            'Gender': 'Female',\n",
    "            'Py_Ass': 78,\n",
    "            'Py_Ex': 63,\n",
    "            'DS_Ass': 85,\n",
    "            'DS_Ex': 45\n",
    "        },\n",
    "        'ST004':{\n",
    "            'Name':'Kola',\n",
    "            'Gender': 'Male',\n",
    "            'Py_Ass': 82,\n",
    "            'Py_Ex': 72,\n",
    "            'DS_Ass': 53,\n",
    "            'DS_Ex': 67\n",
    "        },\n",
    "        'ST005':{\n",
    "            'Name':'Pam',\n",
    "            'Gender': 'Female',\n",
    "            'Py_Ass': 60,\n",
    "            'Py_Ex': 35,\n",
    "            'DS_Ass': 58,\n",
    "            'DS_Ex': 93\n",
    "        },\n",
    "        'ST006':{\n",
    "            'Name':'Ayo',\n",
    "            'Gender': 'Female',\n",
    "            'Py_Ass': 45,\n",
    "            'Py_Ex': 78,\n",
    "            'DS_Ass': 79,\n",
    "            'DS_Ex': 83\n",
    "        },\n",
    "        'ST007':{\n",
    "            'Name':'Abiola',\n",
    "            'Gender': 'Male',\n",
    "            'Py_Ass': 74,\n",
    "            'Py_Ex': 89,\n",
    "            'DS_Ass': 52,\n",
    "            'DS_Ex': 61\n",
    "        }\n",
    "    }\n",
    "    \n",
    "    import statistics as mara\n",
    "    reg_id = input('Provide your Reg ID: ')\n",
    "    for key in records: \n",
    "        py_ass_score = records[key]['Py_Ass']\n",
    "        py_ex_score = records[key]['Py_Ex']\n",
    "        ds_ass_score = records[key]['DS_Ass']\n",
    "        ds_ex_score = records[key]['DS_Ex']\n",
    "        total_score = py_ass_score, py_ex_score, ds_ass_score, ds_ex_score\n",
    "\n",
    "        if reg_id == key:\n",
    "            print('_____STUDENT_RESULT_____')\n",
    "            print(f'''Name:{records[key]['Name']}\n",
    "Gender:{records[key]['Gender']}\n",
    "Python Assignment:{records[key]['Py_Ass']}\n",
    "Python Exam:{records[key]['Py_Ex']}\n",
    "Data Sciene Assignment:{records[key]['DS_Ass']}\n",
    "Data Science Exam:{records[key]['DS_Ex']}\n",
    "Total Score:{mara.mean(total_score)}\n",
    "             ''')\n",
    "            break\n",
    "        else:\n",
    "            print('Student is not on the record')\n",
    "        \n",
    "student_score()"
   ]
  },
  {
   "cell_type": "code",
   "execution_count": 37,
   "id": "e62a9266",
   "metadata": {},
   "outputs": [
    {
     "name": "stdout",
     "output_type": "stream",
     "text": [
      "Provide your Reg ID: ST001\n",
      "_____STUDENT_RESULT_____\n",
      "Name:Gideon\n",
      "Gender:Male\n",
      "Python Assignment:70\n",
      "Python Exam:59\n",
      "Data Sciene Assignment:65\n",
      "Data Science Exam:80\n",
      "Total Score:68.5\n",
      "             \n"
     ]
    }
   ],
   "source": [
    "def student_score():\n",
    "    records={\n",
    "        'ST001':{\n",
    "            'Name':'Gideon',\n",
    "            'Gender': 'Male',\n",
    "            'Py_Ass': 70,\n",
    "            'Py_Ex': 59,\n",
    "            'DS_Ass': 65,\n",
    "            'DS_Ex': 80,\n",
    "        },\n",
    "        'ST002':{\n",
    "            'Name':'Ateli',\n",
    "            'Gender': 'Male',\n",
    "            'Py_Ass': 92,\n",
    "            'Py_Ex': 73,\n",
    "            'DS_Ass': 69,\n",
    "            'DS_Ex': 82\n",
    "        },\n",
    "        'ST003':{\n",
    "            'Name':'Ifeoma',\n",
    "            'Gender': 'Female',\n",
    "            'Py_Ass': 78,\n",
    "            'Py_Ex': 63,\n",
    "            'DS_Ass': 85,\n",
    "            'DS_Ex': 45\n",
    "        },\n",
    "        'ST004':{\n",
    "            'Name':'Kola',\n",
    "            'Gender': 'Male',\n",
    "            'Py_Ass': 82,\n",
    "            'Py_Ex': 72,\n",
    "            'DS_Ass': 53,\n",
    "            'DS_Ex': 67\n",
    "        },\n",
    "        'ST005':{\n",
    "            'Name':'Pam',\n",
    "            'Gender': 'Female',\n",
    "            'Py_Ass': 60,\n",
    "            'Py_Ex': 35,\n",
    "            'DS_Ass': 58,\n",
    "            'DS_Ex': 93\n",
    "        },\n",
    "        'ST006':{\n",
    "            'Name':'Ayo',\n",
    "            'Gender': 'Female',\n",
    "            'Py_Ass': 45,\n",
    "            'Py_Ex': 78,\n",
    "            'DS_Ass': 79,\n",
    "            'DS_Ex': 83\n",
    "        },\n",
    "        'ST007':{\n",
    "            'Name':'Abiola',\n",
    "            'Gender': 'Male',\n",
    "            'Py_Ass': 74,\n",
    "            'Py_Ex': 89,\n",
    "            'DS_Ass': 52,\n",
    "            'DS_Ex': 61\n",
    "        }\n",
    "    }\n",
    "    \n",
    "    import statistics as mara\n",
    "    reg_id = input('Provide your Reg ID: ')\n",
    "    for key in records: \n",
    "        total_score =( records[key]['Py_Ass']+ records[key]['Py_Ex']+ records[key]['DS_Ass']+ records[key]['DS_Ex'])/4\n",
    "        if reg_id == key:\n",
    "            print(f'''_____STUDENT_RESULT_____\n",
    "Name:{records[key]['Name']}\n",
    "Gender:{records[key]['Gender']}\n",
    "Python Assignment:{records[key]['Py_Ass']}\n",
    "Python Exam:{records[key]['Py_Ex']}\n",
    "Data Sciene Assignment:{records[key]['DS_Ass']}\n",
    "Data Science Exam:{records[key]['DS_Ex']}\n",
    "Total Score:{total_score}\n",
    "             ''')\n",
    "            break\n",
    "        else:\n",
    "            print('Student is not on the record')       \n",
    "student_score()"
   ]
  },
  {
   "cell_type": "code",
   "execution_count": 38,
   "id": "1e694dec",
   "metadata": {},
   "outputs": [
    {
     "name": "stdout",
     "output_type": "stream",
     "text": [
      "70.42857142857143\n"
     ]
    }
   ],
   "source": [
    "#function with variable_let divided into non-keyword\n",
    "def average(*numbers):\n",
    "    avg = sum(numbers)/len(numbers)\n",
    "    print(avg)\n",
    "average(34,87,75,62,90,57,88)"
   ]
  },
  {
   "cell_type": "code",
   "execution_count": 39,
   "id": "d94769c4",
   "metadata": {},
   "outputs": [
    {
     "name": "stdout",
     "output_type": "stream",
     "text": [
      "['__builtins__', '__cached__', '__doc__', '__file__', '__loader__', '__name__', '__package__', '__spec__', 'average']\n"
     ]
    }
   ],
   "source": [
    "import mymodule\n",
    "print(dir(mymodule))"
   ]
  },
  {
   "cell_type": "code",
   "execution_count": 40,
   "id": "bd45cc1c",
   "metadata": {},
   "outputs": [
    {
     "name": "stdout",
     "output_type": "stream",
     "text": [
      "67.0\n"
     ]
    }
   ],
   "source": [
    "mymodule.average(74,60)"
   ]
  },
  {
   "cell_type": "code",
   "execution_count": 41,
   "id": "40e416ec",
   "metadata": {},
   "outputs": [],
   "source": [
    "def median(*num):\n",
    "    median = len"
   ]
  },
  {
   "cell_type": "code",
   "execution_count": 45,
   "id": "fb38dc1e",
   "metadata": {},
   "outputs": [
    {
     "name": "stdout",
     "output_type": "stream",
     "text": [
      "Name : Ade\n"
     ]
    }
   ],
   "source": [
    "#function with a variable length of keyword argument\n",
    "def records(**details):\n",
    "    for key,value in details.items():\n",
    "        print(key,':',value)\n",
    "records(Name='Ade')\n"
   ]
  },
  {
   "cell_type": "code",
   "execution_count": null,
   "id": "47718acd",
   "metadata": {},
   "outputs": [],
   "source": [
    "#class\n",
    "#Object\n",
    "#Attribute\n",
    "#method\n",
    "#__init__\n",
    "#self"
   ]
  }
 ],
 "metadata": {
  "kernelspec": {
   "display_name": "Python 3 (ipykernel)",
   "language": "python",
   "name": "python3"
  },
  "language_info": {
   "codemirror_mode": {
    "name": "ipython",
    "version": 3
   },
   "file_extension": ".py",
   "mimetype": "text/x-python",
   "name": "python",
   "nbconvert_exporter": "python",
   "pygments_lexer": "ipython3",
   "version": "3.11.5"
  }
 },
 "nbformat": 4,
 "nbformat_minor": 5
}
