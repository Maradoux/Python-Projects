{
 "cells": [
  {
   "cell_type": "code",
   "execution_count": 8,
   "id": "f951b3e5",
   "metadata": {},
   "outputs": [
    {
     "name": "stdout",
     "output_type": "stream",
     "text": [
      "Enter password:RYIYOIIOHXKLKAX\n",
      "RYIYOIIOHXKLKAX is in upper case and has a length of more than 8 characters\n"
     ]
    }
   ],
   "source": [
    "#1. Write a lambda function to check if a user's password starts with Upper case and has a length of 8 above\n",
    "#2. from the generated numbers in class map it by finding it square root\n",
    "result = (lambda p_word: f'{p_word} is in upper case and has a length of more than 8 characters' if p_word == p_word.upper() and len(p_word) > 8 else f'{p_word} is not the right password condition.')(input('Enter password:'))\n",
    "print(result)"
   ]
  },
  {
   "cell_type": "code",
   "execution_count": 6,
   "id": "7a7352f0",
   "metadata": {},
   "outputs": [
    {
     "name": "stdout",
     "output_type": "stream",
     "text": [
      "[37, 48, 46, 46, 49, 60, 29, 22, 15, 66, 26, 16, 80, 59, 54, 20, 23, 35, 21, 84, 51, 30, 58, 84, 71, 61, 41, 20, 31, 47, 68, 38, 39, 79, 28, 78, 31, 87, 46, 51, 38, 29, 34, 56, 37, 37, 80, 24, 18, 46]\n",
      "\n",
      "Among numbers, these numbers are perfect square: [49, 16]\n",
      "\n",
      "Among numbers, these numbers are not perfect square: [37, 48, 46, 46, 60, 29, 22, 15, 66, 26, 80, 59, 54, 20, 23, 35, 21, 84, 51, 30, 58, 84, 71, 61, 41, 20, 31, 47, 68, 38, 39, 79, 28, 78, 31, 87, 46, 51, 38, 29, 34, 56, 37, 37, 80, 24, 18, 46]\n"
     ]
    }
   ],
   "source": [
    "import random\n",
    "import math\n",
    "\n",
    "numbers = []\n",
    "\n",
    "for i in range(1, 51):\n",
    "    num = random.randint(14, 89)\n",
    "    numbers.append(num)\n",
    "\n",
    "print(numbers)\n",
    "\n",
    "perfect_sqr = list(filter(lambda x:math.sqrt(x) == int(math.sqrt(x)), numbers))\n",
    "imperfect_sqr = list(filter(lambda x:math.sqrt(x) != int(math.sqrt(x)), numbers))\n",
    "print(f'\\nAmong numbers, these numbers are perfect square: {perfect_sqr}')\n",
    "print(f'\\nAmong numbers, these numbers are not perfect square: {imperfect_sqr}')\n",
    "  \n"
   ]
  },
  {
   "cell_type": "code",
   "execution_count": null,
   "id": "504922a7",
   "metadata": {},
   "outputs": [],
   "source": []
  },
  {
   "cell_type": "code",
   "execution_count": null,
   "id": "9328dab9",
   "metadata": {},
   "outputs": [],
   "source": [
    "\n"
   ]
  },
  {
   "cell_type": "code",
   "execution_count": null,
   "id": "3cf62f28",
   "metadata": {},
   "outputs": [],
   "source": []
  },
  {
   "cell_type": "code",
   "execution_count": null,
   "id": "4bc56c82",
   "metadata": {},
   "outputs": [],
   "source": []
  }
 ],
 "metadata": {
  "kernelspec": {
   "display_name": "Python 3 (ipykernel)",
   "language": "python",
   "name": "python3"
  },
  "language_info": {
   "codemirror_mode": {
    "name": "ipython",
    "version": 3
   },
   "file_extension": ".py",
   "mimetype": "text/x-python",
   "name": "python",
   "nbconvert_exporter": "python",
   "pygments_lexer": "ipython3",
   "version": "3.11.5"
  }
 },
 "nbformat": 4,
 "nbformat_minor": 5
}
