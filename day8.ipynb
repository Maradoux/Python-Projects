{
 "cells": [
  {
   "cell_type": "code",
   "execution_count": 1,
   "id": "99171a06",
   "metadata": {},
   "outputs": [],
   "source": [
    "# Object oriented programming deals with class and object\n",
    "# A class is a prototype or blueprint. It has two properties (attributes==properties of class\n",
    "# method==behaviour of class)\n",
    "# After every class you must have an object. It is an instance or copy of a class"
   ]
  },
  {
   "cell_type": "code",
   "execution_count": 2,
   "id": "ef716141",
   "metadata": {},
   "outputs": [
    {
     "data": {
      "text/plain": [
       "'Ade'"
      ]
     },
     "execution_count": 2,
     "metadata": {},
     "output_type": "execute_result"
    }
   ],
   "source": [
    "#class with attributes\n",
    "class person:\n",
    "    attr1 = 'Ade'\n",
    "    attr2 = 45\n",
    "ob = person()\n",
    "ob.attr1"
   ]
  },
  {
   "cell_type": "code",
   "execution_count": 7,
   "id": "8436c55e",
   "metadata": {},
   "outputs": [
    {
     "name": "stdout",
     "output_type": "stream",
     "text": [
      "PERSONAL DETAILS\n",
      "Name: Ade\n",
      "Age: 45\n",
      "\n"
     ]
    }
   ],
   "source": [
    "#class with method.... the diff btwn method and function is \n",
    "#self is constant the first parameter and need no values, you can use self to have acess to the attribute in a class \n",
    "class person:\n",
    "    attr1 = 'Ade'\n",
    "    attr2 = 45\n",
    "    \n",
    "    def details(self):\n",
    "        print(f'''PERSONAL DETAILS\n",
    "Name: {self.attr1}\n",
    "Age: {self.attr2}\n",
    "''')\n",
    "ob = person()        \n",
    "ob.details()        "
   ]
  },
  {
   "cell_type": "code",
   "execution_count": 19,
   "id": "2e0700c4",
   "metadata": {},
   "outputs": [
    {
     "name": "stdout",
     "output_type": "stream",
     "text": [
      "Enter your password: myjigga123\n",
      "OPERATION LIST\n",
      "1. DEPOSIT\n",
      "2. TRANSFER\n",
      "3. AIRTIME\n",
      "4. DATA\n",
      "5. CHECK BALANCE\n",
      "6. QUIT\n",
      "\n",
      "Enter Operation choice: deposit\n",
      "Enter deposit amount: 1000000\n",
      "Transaction Successful.\n",
      "OPERATION LIST\n",
      "1. DEPOSIT\n",
      "2. TRANSFER\n",
      "3. AIRTIME\n",
      "4. DATA\n",
      "5. CHECK BALANCE\n",
      "6. QUIT\n",
      "\n",
      "Enter Operation choice: transfer\n",
      "Enter tranfer amount: 100000000\n",
      "Transaction failed. Insufficient Fund...\n",
      "OPERATION LIST\n",
      "1. DEPOSIT\n",
      "2. TRANSFER\n",
      "3. AIRTIME\n",
      "4. DATA\n",
      "5. CHECK BALANCE\n",
      "6. QUIT\n",
      "\n",
      "Enter Operation choice: quit\n",
      "Logged Out.\n"
     ]
    }
   ],
   "source": [
    "class EARLYCODEMONIAPP:\n",
    "    def __init__(self):\n",
    "        self.balance = 0\n",
    "    \n",
    "    def deposit(self):\n",
    "        amount = float(input('Enter deposit amount: '))\n",
    "        self.balance += amount\n",
    "        print('Transaction Successful.')\n",
    "    \n",
    "    def transfer(self):\n",
    "        amount = float(input('Enter tranfer amount: '))\n",
    "        if amount > self.balance or amount == 0:\n",
    "            print('Transaction failed. Insufficient Fund...')\n",
    "        else:\n",
    "            self.balance -= amount\n",
    "            print('Transaction Successful.')\n",
    "    \n",
    "    def airtime(self):\n",
    "        amount = float(input('Enter airtime amount: '))\n",
    "        if amount > self.balance or amount == 0:\n",
    "            print('Transaction failed. Insufficient Fund...')\n",
    "        else:\n",
    "            self.balance -= amount\n",
    "            print('Transaction Successful.')\n",
    "       \n",
    "    def data(self):\n",
    "        amount = float(input('Enter data amount: '))\n",
    "        if amount > self.balance or amount == 0:\n",
    "            print('Transaction failed. Insufficient Fund...')\n",
    "        else:\n",
    "            self.balance -= amount\n",
    "            print('Transaction Successful.')\n",
    "    \n",
    "    def checkbalance(self):\n",
    "            print(f'Your available balance is {self.balance}')\n",
    "\n",
    "app = EARLYCODEMONIAPP()\n",
    "operation = True\n",
    "passid = 'myjigga123'\n",
    "password = input('Enter your password: ')\n",
    "if passid == password:\n",
    "    while operation:\n",
    "        print('''OPERATION LIST\n",
    "1. DEPOSIT\n",
    "2. TRANSFER\n",
    "3. AIRTIME\n",
    "4. DATA\n",
    "5. CHECK BALANCE\n",
    "6. QUIT\n",
    "''')\n",
    "        choice = input('Enter Operation choice: ')\n",
    "        if choice == 'deposit':\n",
    "            app.deposit()\n",
    "        elif choice == 'transfer':\n",
    "            app.transfer()\n",
    "        elif choice == 'airtime':\n",
    "            app.airtime()\n",
    "        elif choice == 'data':\n",
    "            app.data()\n",
    "        elif choice == 'checkbalance':\n",
    "            app.checkbalance()\n",
    "        elif choice == 'quit':\n",
    "            operation = False\n",
    "            print('Logged Out.')\n",
    "            break\n",
    "            \n",
    "else:\n",
    "    print('Invalid Password')"
   ]
  },
  {
   "cell_type": "code",
   "execution_count": 21,
   "id": "d0234fa2",
   "metadata": {},
   "outputs": [],
   "source": [
    "#inheritance is when a class inherit the attribute and method from another class\n",
    "# the heir is the child class and the inheritee is the parent class\n",
    "class phonesimulation:\n",
    "    def __init__(self,brand,model,color,year):\n",
    "        self.brand = brand\n",
    "        self.model = model\n",
    "        self.color = color\n",
    "        self.year = year\n",
    "    def audio(self):\n",
    "        option = input('Enter audio option: ')\n",
    "        if option == 'play':\n",
    "            print('Audio playing.')\n",
    "        elif option == 'stop':\n",
    "            print('Audip stopped playing.')\n",
    "phone1 = phonesimulation('Tecno','Camon 20 Pro','Black',2023)"
   ]
  },
  {
   "cell_type": "code",
   "execution_count": 22,
   "id": "b756ee0e",
   "metadata": {},
   "outputs": [
    {
     "name": "stdout",
     "output_type": "stream",
     "text": [
      "Enter audio option: play\n",
      "Audio playing.\n"
     ]
    }
   ],
   "source": [
    "phone1.audio()"
   ]
  },
  {
   "cell_type": "code",
   "execution_count": 29,
   "id": "6cfce399",
   "metadata": {},
   "outputs": [],
   "source": [
    "class anothersimulation(phonesimulation):\n",
    "    def camera(self):\n",
    "        option = input('Enter camera option: ')\n",
    "        if option == 'selfie':\n",
    "            print('Front rear camera activated.')\n",
    "        elif option == 'normal': \n",
    "            print('Back rear camera activated.')\n",
    "phone2 = anothersimulation('Tecno','Camon 20 Pro','Black',2024,70)"
   ]
  },
  {
   "cell_type": "code",
   "execution_count": 30,
   "id": "02146ffa",
   "metadata": {},
   "outputs": [
    {
     "name": "stdout",
     "output_type": "stream",
     "text": [
      "Enter camera option: normal\n",
      "Back rear camera activated.\n"
     ]
    }
   ],
   "source": [
    "phone2.camera()"
   ]
  },
  {
   "cell_type": "code",
   "execution_count": null,
   "id": "a55af4df",
   "metadata": {},
   "outputs": [],
   "source": []
  }
 ],
 "metadata": {
  "kernelspec": {
   "display_name": "Python 3 (ipykernel)",
   "language": "python",
   "name": "python3"
  },
  "language_info": {
   "codemirror_mode": {
    "name": "ipython",
    "version": 3
   },
   "file_extension": ".py",
   "mimetype": "text/x-python",
   "name": "python",
   "nbconvert_exporter": "python",
   "pygments_lexer": "ipython3",
   "version": "3.11.5"
  }
 },
 "nbformat": 4,
 "nbformat_minor": 5
}
