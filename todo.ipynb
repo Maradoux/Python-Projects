{
 "cells": [
  {
   "cell_type": "code",
   "execution_count": 13,
   "metadata": {},
   "outputs": [
    {
     "name": "stdout",
     "output_type": "stream",
     "text": [
      "('to_do',)\n"
     ]
    }
   ],
   "source": [
    "import pymysql\n",
    "\n",
    "mydb = pymysql.connect(\n",
    "    host= 'localhost',\n",
    "    user= 'root',\n",
    "    password= 'QWERTY#123#'\n",
    ")\n",
    "\n",
    "mycursor = mydb.cursor()\n",
    "# mycursor.execute('create database TO_DO_APP')\n",
    "# mycursor.execute('show databases')\n",
    "# for x in mycursor:\n",
    "#     print(x)\n",
    "\n",
    "mydb = pymysql.connect(\n",
    "    host= 'localhost',\n",
    "    user= 'root',\n",
    "    password= 'QWERTY#123#',\n",
    "    database= \"TO_DO_APP\"\n",
    ")\n",
    "\n",
    "mycursor =mydb.cursor()\n",
    "# mycursor.execute('''\n",
    "#             create table To_Do(\n",
    "#                  ID int primary key,\n",
    "#                  Date date not null,\n",
    "#                  Task text not null,\n",
    "#                  Status varchar(50) not null,\n",
    "#                  Deadline date not null\n",
    "#             )\n",
    "#                  ''')\n",
    "mycursor.execute('show tables')\n",
    "for x in mycursor:\n",
    "    print(x)"
   ]
  },
  {
   "cell_type": "code",
   "execution_count": 21,
   "metadata": {},
   "outputs": [],
   "source": [
    "from mymodule import get_non_empty_input, format_date_for_output, get_ordinal_indicator\n",
    "from datetime import datetime\n",
    "\n",
    "def create():\n",
    "    Date = format_date_for_output('Provide your date: ')\n",
    "    Task= get_non_empty_input('Provide your task: ')\n",
    "    Status = get_non_empty_input('What is your gender(Completed/Imcomplete)? ')\n",
    "    Deadline = get_non_empty_input('Provide Booked date(YYYY/MM/DD): ')\n",
    "\n",
    "    query = 'INSERT INTO records101(Date,Task,Status,Deadline) VALUES(%s, %s, %s, %s,)'\n",
    "    mycursor.execute(query, (Date, Task, Status, Deadline))\n",
    "    mydb.commit()\n",
    "    print('Task added successfully...')\n",
    "\n",
    "def display():\n",
    "    ask1 = get_non_empty_input('Would you like to use the filter(Yes/No)?')\n",
    "    if ask1 == 'no'.lower():\n",
    "        mycursor.execute('SELECT * FROM to_do')\n",
    "    elif ask1 == 'yes'.lower():\n",
    "        mycursor.execute('')\n",
    "    for x in mycursor:\n",
    "        print(x)\n",
    "         \n",
    "def delete():\n",
    "    ID = get_non_empty_input(int('Enter task ID to be deleted: '))\n",
    "    ask = input('Are you sure you want to delete this task(Yes/No)? ')\n",
    "    if ask.lower() == 'yes':\n",
    "        query = 'DELETE FROM to_do WHERE ID = %s'\n",
    "        mycursor.execute(query, (ID,))\n",
    "        mydb.commit()\n",
    "        print('Task deleted successfully...')\n",
    "    else:\n",
    "        print('You are no longer deleting this task')\n",
    "\n",
    "def change_status():\n",
    "    query_fetch_id = 'select * from to do where ID = %s and Status = %s'\n",
    "    mycursor.execute(query_fetch_id, (ID, 'Imcomplete'))\n",
    "    fetch = mycursor.fetchall()\n",
    "\n",
    "    ID = get_non_empty_input(int('Enter task ID you have completed: '))\n",
    "    ask = input('Are you sure you want to completed this task(Yes/No)? ')\n",
    "    while True:\n",
    "        if ask.lower() == 'yes':\n",
    "            query = 'UPDATE to_do SET Status = %s where ID = %s'\n",
    "            mycursor.execute(query, (Completed, ID))\n",
    "            mydb.commit()\n",
    "            print('Task completed successfully...')\n",
    "        elif ask.lower() == 'no':\n",
    "            break\n",
    "        else:\n",
    "            print('Invalid input')\n",
    "            continue\n",
    "    \n",
    "def main():\n",
    "    operation = True\n",
    "    print('Welcome to Task Bot!')\n",
    "    while operation:\n",
    "        print('Operation[Create, Display, Update, Delete, Logout]')\n",
    "        option = input('Select Operation: ')\n",
    "        if option == 'Create'.lower():\n",
    "            create() \n",
    "        elif option == 'Display'.lower():\n",
    "            display()\n",
    "        elif option == 'Update'.lower():\n",
    "            change_status()\n",
    "        elif option == 'Delete'.lower():\n",
    "            delete()\n",
    "        elif option == 'Logout'.lower():\n",
    "            operation = False\n",
    "            print('You are no longer in the Task Bot')\n",
    "        break\n",
    "    else: \n",
    "        print('Invalid Input')\n",
    "        "
   ]
  },
  {
   "cell_type": "code",
   "execution_count": 23,
   "metadata": {},
   "outputs": [
    {
     "name": "stdout",
     "output_type": "stream",
     "text": [
      "Welcome to Task Bot!\n",
      "Operation[Create, Display, Update, Delete, Logout]\n"
     ]
    },
    {
     "ename": "AttributeError",
     "evalue": "'str' object has no attribute 'strftime'",
     "output_type": "error",
     "traceback": [
      "\u001b[1;31m---------------------------------------------------------------------------\u001b[0m",
      "\u001b[1;31mAttributeError\u001b[0m                            Traceback (most recent call last)",
      "Cell \u001b[1;32mIn[23], line 1\u001b[0m\n\u001b[1;32m----> 1\u001b[0m \u001b[43mmain\u001b[49m\u001b[43m(\u001b[49m\u001b[43m)\u001b[49m\n",
      "Cell \u001b[1;32mIn[21], line 61\u001b[0m, in \u001b[0;36mmain\u001b[1;34m()\u001b[0m\n\u001b[0;32m     59\u001b[0m option \u001b[38;5;241m=\u001b[39m \u001b[38;5;28minput\u001b[39m(\u001b[38;5;124m'\u001b[39m\u001b[38;5;124mSelect Operation: \u001b[39m\u001b[38;5;124m'\u001b[39m)\n\u001b[0;32m     60\u001b[0m \u001b[38;5;28;01mif\u001b[39;00m option \u001b[38;5;241m==\u001b[39m \u001b[38;5;124m'\u001b[39m\u001b[38;5;124mCreate\u001b[39m\u001b[38;5;124m'\u001b[39m\u001b[38;5;241m.\u001b[39mlower():\n\u001b[1;32m---> 61\u001b[0m     \u001b[43mcreate\u001b[49m\u001b[43m(\u001b[49m\u001b[43m)\u001b[49m \n\u001b[0;32m     62\u001b[0m \u001b[38;5;28;01melif\u001b[39;00m option \u001b[38;5;241m==\u001b[39m \u001b[38;5;124m'\u001b[39m\u001b[38;5;124mDisplay\u001b[39m\u001b[38;5;124m'\u001b[39m\u001b[38;5;241m.\u001b[39mlower():\n\u001b[0;32m     63\u001b[0m     display()\n",
      "Cell \u001b[1;32mIn[21], line 5\u001b[0m, in \u001b[0;36mcreate\u001b[1;34m()\u001b[0m\n\u001b[0;32m      4\u001b[0m \u001b[38;5;28;01mdef\u001b[39;00m \u001b[38;5;21mcreate\u001b[39m():\n\u001b[1;32m----> 5\u001b[0m     Date \u001b[38;5;241m=\u001b[39m \u001b[43mformat_date_for_output\u001b[49m\u001b[43m(\u001b[49m\u001b[38;5;124;43m'\u001b[39;49m\u001b[38;5;124;43mProvide your date: \u001b[39;49m\u001b[38;5;124;43m'\u001b[39;49m\u001b[43m)\u001b[49m\n\u001b[0;32m      6\u001b[0m     Task\u001b[38;5;241m=\u001b[39m get_non_empty_input(\u001b[38;5;124m'\u001b[39m\u001b[38;5;124mProvide your task: \u001b[39m\u001b[38;5;124m'\u001b[39m)\n\u001b[0;32m      7\u001b[0m     Status \u001b[38;5;241m=\u001b[39m get_non_empty_input(\u001b[38;5;124m'\u001b[39m\u001b[38;5;124mWhat is your gender(Completed/Imcomplete)? \u001b[39m\u001b[38;5;124m'\u001b[39m)\n",
      "File \u001b[1;32mc:\\Users\\ONUUZO\\Documents\\Python\\mymodule.py:19\u001b[0m, in \u001b[0;36mformat_date_for_output\u001b[1;34m(date_obj)\u001b[0m\n\u001b[0;32m     18\u001b[0m \u001b[38;5;28;01mdef\u001b[39;00m \u001b[38;5;21mformat_date_for_output\u001b[39m(date_obj):\n\u001b[1;32m---> 19\u001b[0m     day \u001b[38;5;241m=\u001b[39m \u001b[43mdate_obj\u001b[49m\u001b[38;5;241;43m.\u001b[39;49m\u001b[43mstrftime\u001b[49m(\u001b[38;5;124m\"\u001b[39m\u001b[38;5;132;01m%d\u001b[39;00m\u001b[38;5;124m\"\u001b[39m)\n\u001b[0;32m     20\u001b[0m     month_name \u001b[38;5;241m=\u001b[39m date_obj\u001b[38;5;241m.\u001b[39mstrftime(\u001b[38;5;124m\"\u001b[39m\u001b[38;5;124m%\u001b[39m\u001b[38;5;124mb\u001b[39m\u001b[38;5;124m\"\u001b[39m)\n\u001b[0;32m     21\u001b[0m     year \u001b[38;5;241m=\u001b[39m date_obj\u001b[38;5;241m.\u001b[39mstrftime(\u001b[38;5;124m\"\u001b[39m\u001b[38;5;124m%\u001b[39m\u001b[38;5;124mY\u001b[39m\u001b[38;5;124m\"\u001b[39m)\n",
      "\u001b[1;31mAttributeError\u001b[0m: 'str' object has no attribute 'strftime'"
     ]
    }
   ],
   "source": [
    "main()"
   ]
  },
  {
   "cell_type": "code",
   "execution_count": null,
   "metadata": {},
   "outputs": [],
   "source": []
  }
 ],
 "metadata": {
  "kernelspec": {
   "display_name": "Python 3",
   "language": "python",
   "name": "python3"
  },
  "language_info": {
   "codemirror_mode": {
    "name": "ipython",
    "version": 3
   },
   "file_extension": ".py",
   "mimetype": "text/x-python",
   "name": "python",
   "nbconvert_exporter": "python",
   "pygments_lexer": "ipython3",
   "version": "3.12.2"
  }
 },
 "nbformat": 4,
 "nbformat_minor": 2
}
