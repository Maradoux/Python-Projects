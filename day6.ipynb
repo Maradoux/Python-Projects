{
 "cells": [
  {
   "cell_type": "code",
   "execution_count": 1,
   "id": "94914ea3",
   "metadata": {},
   "outputs": [],
   "source": [
    "#functions are set of programs to perform specific tasks\n",
    "#function is reusable and it makes you code look more organized\n",
    "# step 1: start with \"def\" which is rec\n",
    "# step 2: name the function\n",
    "# step 3: put the expression for the function"
   ]
  },
  {
   "cell_type": "code",
   "execution_count": 3,
   "id": "ce7b0748",
   "metadata": {},
   "outputs": [
    {
     "name": "stdout",
     "output_type": "stream",
     "text": [
      "I am in my rich girl era!\n",
      "None\n"
     ]
    }
   ],
   "source": [
    "def mara():\n",
    "    print('I am in my rich girl era!')\n",
    "print(mara())\n",
    "#mara()"
   ]
  },
  {
   "cell_type": "code",
   "execution_count": 7,
   "id": "c18c668f",
   "metadata": {},
   "outputs": [
    {
     "name": "stdout",
     "output_type": "stream",
     "text": [
      "Congratulations you are eligible to vote\n"
     ]
    }
   ],
   "source": [
    "def votecheck(name,gender,age):\n",
    "    if age >=18:\n",
    "        print('Congratulations you are eligible to vote')\n",
    "    else:\n",
    "        print('Opps sorry! You are not eligible to vote')\n",
    "votecheck('Sarah','Female',35)"
   ]
  },
  {
   "cell_type": "code",
   "execution_count": 6,
   "id": "1bbdad1b",
   "metadata": {},
   "outputs": [
    {
     "name": "stdout",
     "output_type": "stream",
     "text": [
      "You are qualified to play football\n"
     ]
    }
   ],
   "source": [
    "# Parameter is a variable used in function or method. It is a  placeholder for the argument\n",
    "def sport(name,gender,weight):\n",
    "    if weight >=175:\n",
    "        print('You are qualified to play Rugby.')\n",
    "    else:\n",
    "        print('You are qualified to play football')\n",
    "    \n",
    "sport('Ateli','Male',165)"
   ]
  },
  {
   "cell_type": "code",
   "execution_count": 12,
   "id": "50b0a840",
   "metadata": {},
   "outputs": [
    {
     "name": "stdout",
     "output_type": "stream",
     "text": [
      "You are qualified to play Rugby.\n"
     ]
    }
   ],
   "source": [
    "# function with a default parameter, while declaring that function if you have already assigned a default value in the\n",
    "# parameter you have already placed an argument there. The default must always come last, whether two, more or all\n",
    "def sport(name,gender,weight=230):\n",
    "    if weight >=230:\n",
    "        print('You are qualified to play Rugby.')\n",
    "    else:\n",
    "        print('You are qualified to play football')\n",
    "    \n",
    "sport('Ateli','Male',250)"
   ]
  },
  {
   "cell_type": "code",
   "execution_count": null,
   "id": "57fc01d1",
   "metadata": {},
   "outputs": [],
   "source": [
    "# Write a python function that allows a user to continously order food items until they choose to stop. It will then \n",
    "#calculate the total price and print a receipt\n",
    "def order_food():\n",
    "    menu{\n",
    "        'Sharwama': 15.0,\n",
    "        'Sandwich': 7.5,\n",
    "        'Salad': 4.99,\n",
    "        'Fries': 3.99,\n",
    "        'Burger': 8.00,\n",
    "    }\n",
    "    order = {}\n",
    "    totalprice = 0.0\n",
    "    while True:\n",
    "        print('/nMENU')\n",
    "        for item,price in menu.items():\n",
    "            print(f'{item.capitalize()}: ${price:.2f}')\n",
    "        user_choice = input('Enter the food item you want to order(or done to finish)').lower()\n",
    "        \n",
    "        if user_choice == 'done':\n",
    "            break\n",
    "        if user_choice in menu:\n",
    "            quantity = int(input(f'How many {user-choice}s do you want to order?'))\n",
    "            order[user_choice]=quantity\n",
    "            totalprice += menu[user_choice] * quantity\n",
    "        else:\n",
    "            print('Invalid choice, choose from menu.')\n",
    "    print('/nRECEIPT')\n",
    "    for item, quantity in order.items():\n",
    "        print(f'{item.capitalize()}: {quantity} x ${price:.2f} = ${menu[user_choice] * quantity}')\n",
    "    print('Total Price is',totalprice)\n",
    "order_food()"
   ]
  }
 ],
 "metadata": {
  "kernelspec": {
   "display_name": "Python 3 (ipykernel)",
   "language": "python",
   "name": "python3"
  },
  "language_info": {
   "codemirror_mode": {
    "name": "ipython",
    "version": 3
   },
   "file_extension": ".py",
   "mimetype": "text/x-python",
   "name": "python",
   "nbconvert_exporter": "python",
   "pygments_lexer": "ipython3",
   "version": "3.11.5"
  }
 },
 "nbformat": 4,
 "nbformat_minor": 5
}
